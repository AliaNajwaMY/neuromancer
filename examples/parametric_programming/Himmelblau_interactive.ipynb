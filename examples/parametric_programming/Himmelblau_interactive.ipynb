{
 "cells": [
  {
   "cell_type": "markdown",
   "metadata": {
    "id": "34qVD_ntSKLF"
   },
   "source": [
    "# Parametric Nonlinear Programming (pNLP) with NeuroMANCER: Himmelblau's function\n",
    "\n",
    "This is an interactive notebook based on the python script `mpNLP_Himmelblau_nm.py`. We demonstrate how the NeuroMANCER toolbox can be used to solve the [Himmelblau problem](https://en.wikipedia.org/wiki/Himmelblau%27s_function):\n",
    "\n",
    "$$\n",
    "\\begin{align}\n",
    "&\\text{minimize } && (x^2 + y - 11)^2 + (x + y^2 - 7)^2\\\\\n",
    "&\\text{subject to} && \\left(\\frac{p}{2}\\right)^2 \\le x^2 + y^2 \\le p^2\\\\\n",
    "& && x \\ge y\n",
    "\\end{align}\n",
    "$$\n",
    "\n",
    "with parameter $p$ and decision variables $x,y$."
   ]
  },
  {
   "cell_type": "markdown",
   "metadata": {
    "id": "OCn3zpaIqgMc"
   },
   "source": [
    "## NeuroMANCER and Dependencies"
   ]
  },
  {
   "cell_type": "markdown",
   "metadata": {
    "id": "Qzy5Wot5k2Gf"
   },
   "source": [
    "### Install (Colab only)\n",
    "Skip this step when running locally.\n",
    "\n",
    "We need to install a more recent version of matplotlib than is offered in the default Colab environment. After running the cell 1 for the first time in a new Colab runtime, you will see the prompt: \"You must restart the runtime in order to use newly installed versions.\" After restarting, the correct version of matplotlib will be loaded for the duration of the current runtime."
   ]
  },
  {
   "cell_type": "code",
   "execution_count": null,
   "metadata": {},
   "outputs": [],
   "source": [
    "!pip install --upgrade matplotlib"
   ]
  },
  {
   "cell_type": "code",
   "execution_count": null,
   "metadata": {
    "colab": {
     "base_uri": "https://localhost:8080/",
     "height": 1000
    },
    "id": "X_3EvkSz0Fnz",
    "outputId": "23c06f6b-ab48-4763-c43c-40a325cacf87"
   },
   "outputs": [],
   "source": [
    "!pip install setuptools==61.0.0 casadi mlflow plum-dispatch\n",
    "!pip install git+https://github.com/pnnl/neuromancer.git@master --ignore-requires-python --no-deps"
   ]
  },
  {
   "cell_type": "markdown",
   "metadata": {
    "id": "LWyvndXlz0Fv"
   },
   "source": [
    "### Import"
   ]
  },
  {
   "cell_type": "code",
   "execution_count": null,
   "metadata": {
    "id": "KbP0n-4evRqt"
   },
   "outputs": [],
   "source": [
    "import matplotlib.pyplot as plt\n",
    "import matplotlib.patheffects as patheffects\n",
    "import numpy as np\n",
    "\n",
    "import torch\n",
    "import casadi\n",
    "import time\n",
    "\n",
    "from neuromancer import slim"
   ]
  },
  {
   "cell_type": "code",
   "execution_count": 3,
   "metadata": {
    "id": "POL27EJZxJmI"
   },
   "outputs": [],
   "source": [
    "from neuromancer.trainer import Trainer\n",
    "from neuromancer.problem import Problem\n",
    "import neuromancer.arg as arg\n",
    "from neuromancer.constraint import variable\n",
    "from neuromancer.activations import activations\n",
    "from neuromancer.loggers import BasicLogger, MLFlowLogger\n",
    "from neuromancer.dataset import get_static_dataloaders\n",
    "from neuromancer.loss import PenaltyLoss\n",
    "from neuromancer.solvers import GradientProjection\n",
    "from neuromancer.maps import Map\n",
    "from neuromancer import blocks"
   ]
  },
  {
   "cell_type": "markdown",
   "metadata": {
    "id": "_WH7o7Wu1epw"
   },
   "source": [
    "# Dataset"
   ]
  },
  {
   "cell_type": "code",
   "execution_count": 4,
   "metadata": {
    "id": "_r6p2p6myHAh"
   },
   "outputs": [],
   "source": [
    "device = \"cpu\"\n",
    "data_seed = 408  # random seed used for simulated data\n",
    "np.random.seed(data_seed)\n",
    "torch.manual_seed(data_seed);"
   ]
  },
  {
   "cell_type": "markdown",
   "metadata": {
    "id": "JZ9qrw0tlJhs"
   },
   "source": [
    "Randomly sample parameters from a uniform distribution ($2\\le p\\le6$)"
   ]
  },
  {
   "cell_type": "code",
   "execution_count": 5,
   "metadata": {
    "id": "Nu58M-8JyHy6"
   },
   "outputs": [],
   "source": [
    "nsim = 20000  # number of datapoints: increase sample density for more robust results\n",
    "samples = {\"p\": np.random.uniform(low=2.0, high=6.0, size=(nsim, 1))}\n",
    "data, dims = get_static_dataloaders(samples)\n",
    "train_data, dev_data, test_data = data"
   ]
  },
  {
   "cell_type": "markdown",
   "metadata": {
    "id": "Q6DqbTdL6S4o"
   },
   "source": [
    "# pNLP Formulation in NeuroMANCER"
   ]
  },
  {
   "cell_type": "markdown",
   "metadata": {
    "id": "Y2htUaWMDjsk"
   },
   "source": [
    "## Primal Solution Map Architecture"
   ]
  },
  {
   "cell_type": "code",
   "execution_count": 6,
   "metadata": {
    "id": "mKGwM650yJwu"
   },
   "outputs": [],
   "source": [
    "n_layers = 4    # number of hidden layers\n",
    "nx_hidden = 80  # hidden layer size"
   ]
  },
  {
   "cell_type": "code",
   "execution_count": 7,
   "metadata": {
    "id": "Ta_I_pjyyLzf"
   },
   "outputs": [],
   "source": [
    "func = blocks.MLP(insize=1, outsize=2,\n",
    "                bias=True,\n",
    "                linear_map=slim.maps['linear'],\n",
    "                nonlin=activations['relu'],\n",
    "                hsizes=[nx_hidden] * n_layers)\n",
    "sol_map = Map(func,\n",
    "        input_keys=[\"p\"],\n",
    "        output_keys=[\"x\"],\n",
    "        name='primal_map')"
   ]
  },
  {
   "cell_type": "markdown",
   "metadata": {
    "id": "Lxj77EFj7EO-"
   },
   "source": [
    "## Objective and Constraints"
   ]
  },
  {
   "cell_type": "code",
   "execution_count": 8,
   "metadata": {
    "id": "rGc79_4pyNuC"
   },
   "outputs": [],
   "source": [
    "Q = 1.0            # loss function weight\n",
    "Q_con = 100.0      # constraints penalty weight\n",
    "proj_grad = False  # whether or not to use projected gradient update"
   ]
  },
  {
   "cell_type": "code",
   "execution_count": 9,
   "metadata": {
    "id": "bcoVjphjyPp9"
   },
   "outputs": [],
   "source": [
    "# variables\n",
    "x = variable(\"x\")[:, [0]]\n",
    "y = variable(\"x\")[:, [1]]\n",
    "# sampled parameters\n",
    "p = variable('p')\n",
    "\n",
    "# objective function\n",
    "f = (x**2 + y - 11)**2 + (x + y**2 - 7)**2\n",
    "obj = f.minimize(weight=Q, name='obj')\n",
    "\n",
    "# constraints\n",
    "con_1 = (x >= y)\n",
    "con_2 = ((p/2)**2 <= x**2+y**2)\n",
    "con_3 = (x**2+y**2 <= p**2)\n",
    "con_1.name = 'c1'\n",
    "con_2.name = 'c2'\n",
    "con_3.name = 'c3'"
   ]
  },
  {
   "cell_type": "code",
   "execution_count": 10,
   "metadata": {
    "colab": {
     "base_uri": "https://localhost:8080/",
     "height": 496
    },
    "id": "n7VPa9Wc8JRB",
    "outputId": "0da17c45-6370-4f46-f626-bd5686b94bfc"
   },
   "outputs": [
    {
     "data": {
      "image/png": "[encoded data removed]",
      "text/plain": [
       "<Figure size 640x480 with 1 Axes>"
      ]
     },
     "metadata": {},
     "output_type": "display_data"
    }
   ],
   "source": [
    "# constrained optimization problem construction\n",
    "objectives = [obj]\n",
    "constraints = [Q_con*con_1, Q_con*con_2, Q_con*con_3]\n",
    "components = [sol_map]\n",
    "\n",
    "if proj_grad:  # use projected gradient update\n",
    "    project_keys = [\"x\"]\n",
    "    projection = GradientProjection(constraints, input_keys=project_keys,\n",
    "                                    num_steps=5, name='proj')\n",
    "    components.append(projection)\n",
    "\n",
    "# create constrained optimization loss\n",
    "loss = PenaltyLoss(objectives, constraints)\n",
    "# construct constrained optimization problem\n",
    "problem = Problem(components, loss, grad_inference=proj_grad)\n",
    "# plot computational graph\n",
    "problem.plot_graph()"
   ]
  },
  {
   "cell_type": "markdown",
   "metadata": {
    "id": "icWSMeG28SKc"
   },
   "source": [
    "## Problem Solution"
   ]
  },
  {
   "cell_type": "code",
   "execution_count": 11,
   "metadata": {
    "id": "SzdTKwt_Cvz5"
   },
   "outputs": [],
   "source": [
    "# selected parameters\n",
    "p = 4.0"
   ]
  },
  {
   "cell_type": "markdown",
   "metadata": {
    "id": "hUT6tKhEB5lx"
   },
   "source": [
    "### Train Solution Map"
   ]
  },
  {
   "cell_type": "code",
   "execution_count": 12,
   "metadata": {
    "id": "rk1bRczByUvl"
   },
   "outputs": [],
   "source": [
    "lr = 0.001      # step size for gradient descent\n",
    "epochs = 300    # number of training epochs\n",
    "warmup = 100    # number of epochs to wait before enacting early stopping policy\n",
    "patience = 100  # number of epochs with no improvement in eval metric to allow \n",
    "                #   before early stopping"
   ]
  },
  {
   "cell_type": "code",
   "execution_count": 13,
   "metadata": {
    "id": "x4oS2N2ZyWtD"
   },
   "outputs": [],
   "source": [
    "optimizer = torch.optim.AdamW(problem.parameters(), lr=lr)\n",
    "\n",
    "# define trainer\n",
    "trainer = Trainer(\n",
    "    problem,\n",
    "    train_data,\n",
    "    dev_data,\n",
    "    test_data,\n",
    "    optimizer,\n",
    "    epochs=epochs,\n",
    "    train_metric=\"train_loss\",\n",
    "    dev_metric=\"dev_loss\",\n",
    "    test_metric=\"test_loss\",\n",
    "    eval_metric=\"dev_loss\",\n",
    "    patience=patience,\n",
    "    warmup=warmup,\n",
    "    device=device,\n",
    ")"
   ]
  },
  {
   "cell_type": "code",
   "execution_count": 14,
   "metadata": {
    "colab": {
     "base_uri": "https://localhost:8080/"
    },
    "id": "27ASQD3q-M0A",
    "outputId": "04eec20c-51c3-4a71-e570-9636af9421c0"
   },
   "outputs": [
    {
     "name": "stdout",
     "output_type": "stream",
     "text": [
      "epoch: 0  train_loss: 66.01835632324219\n",
      "epoch: 1  train_loss: 18.267681121826172\n",
      "epoch: 2  train_loss: 16.60422706604004\n",
      "epoch: 3  train_loss: 16.972389221191406\n",
      "epoch: 4  train_loss: 16.419897079467773\n",
      "epoch: 5  train_loss: 15.013101577758789\n",
      "epoch: 6  train_loss: 14.295248031616211\n",
      "epoch: 7  train_loss: 14.071354866027832\n",
      "epoch: 8  train_loss: 15.46351432800293\n",
      "epoch: 9  train_loss: 14.903855323791504\n",
      "epoch: 10  train_loss: 14.18571949005127\n",
      "epoch: 11  train_loss: 13.981148719787598\n",
      "epoch: 12  train_loss: 15.063672065734863\n",
      "epoch: 13  train_loss: 13.5791654586792\n",
      "epoch: 14  train_loss: 13.421749114990234\n",
      "epoch: 15  train_loss: 13.058341026306152\n",
      "epoch: 16  train_loss: 13.265741348266602\n",
      "epoch: 17  train_loss: 12.7937593460083\n",
      "epoch: 18  train_loss: 13.40497875213623\n",
      "epoch: 19  train_loss: 12.862196922302246\n",
      "epoch: 20  train_loss: 13.540416717529297\n",
      "epoch: 21  train_loss: 12.838932991027832\n",
      "epoch: 22  train_loss: 12.569019317626953\n",
      "epoch: 23  train_loss: 12.82066535949707\n",
      "epoch: 24  train_loss: 13.024930000305176\n",
      "epoch: 25  train_loss: 12.436626434326172\n",
      "epoch: 26  train_loss: 12.950040817260742\n",
      "epoch: 27  train_loss: 12.684332847595215\n",
      "epoch: 28  train_loss: 12.071772575378418\n",
      "epoch: 29  train_loss: 12.419970512390137\n",
      "epoch: 30  train_loss: 12.175131797790527\n",
      "epoch: 31  train_loss: 13.276615142822266\n",
      "epoch: 32  train_loss: 13.384117126464844\n",
      "epoch: 33  train_loss: 12.450995445251465\n",
      "epoch: 34  train_loss: 12.113455772399902\n",
      "epoch: 35  train_loss: 12.150189399719238\n",
      "epoch: 36  train_loss: 11.625035285949707\n",
      "epoch: 37  train_loss: 12.166361808776855\n",
      "epoch: 38  train_loss: 12.563995361328125\n",
      "epoch: 39  train_loss: 12.339790344238281\n",
      "epoch: 40  train_loss: 11.889090538024902\n",
      "epoch: 41  train_loss: 12.294076919555664\n",
      "epoch: 42  train_loss: 12.612604141235352\n",
      "epoch: 43  train_loss: 11.76901626586914\n",
      "epoch: 44  train_loss: 12.322898864746094\n",
      "epoch: 45  train_loss: 12.534918785095215\n",
      "epoch: 46  train_loss: 11.498174667358398\n",
      "epoch: 47  train_loss: 12.189126968383789\n",
      "epoch: 48  train_loss: 11.717597961425781\n",
      "epoch: 49  train_loss: 11.821521759033203\n",
      "epoch: 50  train_loss: 11.252705574035645\n",
      "epoch: 51  train_loss: 11.554729461669922\n",
      "epoch: 52  train_loss: 11.274799346923828\n",
      "epoch: 53  train_loss: 12.174619674682617\n",
      "epoch: 54  train_loss: 12.256321907043457\n",
      "epoch: 55  train_loss: 12.185189247131348\n",
      "epoch: 56  train_loss: 12.523558616638184\n",
      "epoch: 57  train_loss: 11.475756645202637\n",
      "epoch: 58  train_loss: 12.368886947631836\n",
      "epoch: 59  train_loss: 12.299379348754883\n",
      "epoch: 60  train_loss: 12.384958267211914\n",
      "epoch: 61  train_loss: 11.514159202575684\n",
      "epoch: 62  train_loss: 11.305717468261719\n",
      "epoch: 63  train_loss: 11.668593406677246\n",
      "epoch: 64  train_loss: 12.097479820251465\n",
      "epoch: 65  train_loss: 11.463432312011719\n",
      "epoch: 66  train_loss: 11.700136184692383\n",
      "epoch: 67  train_loss: 11.733180046081543\n",
      "epoch: 68  train_loss: 11.676922798156738\n",
      "epoch: 69  train_loss: 11.675349235534668\n",
      "epoch: 70  train_loss: 11.664535522460938\n",
      "epoch: 71  train_loss: 11.641000747680664\n",
      "epoch: 72  train_loss: 11.693639755249023\n",
      "epoch: 73  train_loss: 11.194144248962402\n",
      "epoch: 74  train_loss: 11.347644805908203\n",
      "epoch: 75  train_loss: 11.087928771972656\n",
      "epoch: 76  train_loss: 11.630292892456055\n",
      "epoch: 77  train_loss: 11.544230461120605\n",
      "epoch: 78  train_loss: 11.202528953552246\n",
      "epoch: 79  train_loss: 11.398080825805664\n",
      "epoch: 80  train_loss: 11.462834358215332\n",
      "epoch: 81  train_loss: 11.230307579040527\n",
      "epoch: 82  train_loss: 11.282608985900879\n",
      "epoch: 83  train_loss: 11.370560646057129\n",
      "epoch: 84  train_loss: 11.128033638000488\n",
      "epoch: 85  train_loss: 11.645750045776367\n",
      "epoch: 86  train_loss: 11.210175514221191\n",
      "epoch: 87  train_loss: 11.006322860717773\n",
      "epoch: 88  train_loss: 11.423866271972656\n",
      "epoch: 89  train_loss: 11.212644577026367\n",
      "epoch: 90  train_loss: 11.206356048583984\n",
      "epoch: 91  train_loss: 11.455321311950684\n",
      "epoch: 92  train_loss: 10.701772689819336\n",
      "epoch: 93  train_loss: 11.54733657836914\n",
      "epoch: 94  train_loss: 11.459446907043457\n",
      "epoch: 95  train_loss: 11.192747116088867\n",
      "epoch: 96  train_loss: 11.305109024047852\n",
      "epoch: 97  train_loss: 11.402050971984863\n",
      "epoch: 98  train_loss: 11.443229675292969\n",
      "epoch: 99  train_loss: 11.357220649719238\n",
      "epoch: 100  train_loss: 11.380136489868164\n",
      "epoch: 101  train_loss: 11.29407024383545\n",
      "epoch: 102  train_loss: 11.086676597595215\n",
      "epoch: 103  train_loss: 11.14792251586914\n",
      "epoch: 104  train_loss: 10.978748321533203\n",
      "epoch: 105  train_loss: 11.090219497680664\n",
      "epoch: 106  train_loss: 11.359885215759277\n",
      "epoch: 107  train_loss: 11.196785926818848\n",
      "epoch: 108  train_loss: 11.031448364257812\n",
      "epoch: 109  train_loss: 10.948860168457031\n",
      "epoch: 110  train_loss: 11.320045471191406\n",
      "epoch: 111  train_loss: 11.102107048034668\n",
      "epoch: 112  train_loss: 11.031986236572266\n",
      "epoch: 113  train_loss: 11.143768310546875\n",
      "epoch: 114  train_loss: 10.877626419067383\n",
      "epoch: 115  train_loss: 11.177152633666992\n",
      "epoch: 116  train_loss: 10.986124038696289\n",
      "epoch: 117  train_loss: 11.175686836242676\n",
      "epoch: 118  train_loss: 11.590155601501465\n",
      "epoch: 119  train_loss: 10.826918601989746\n",
      "epoch: 120  train_loss: 11.366827011108398\n",
      "epoch: 121  train_loss: 11.129976272583008\n",
      "epoch: 122  train_loss: 10.987818717956543\n",
      "epoch: 123  train_loss: 11.014655113220215\n",
      "epoch: 124  train_loss: 10.711748123168945\n",
      "epoch: 125  train_loss: 10.94823169708252\n",
      "epoch: 126  train_loss: 11.051231384277344\n",
      "epoch: 127  train_loss: 11.077885627746582\n",
      "epoch: 128  train_loss: 11.270556449890137\n",
      "epoch: 129  train_loss: 11.499967575073242\n",
      "epoch: 130  train_loss: 11.657697677612305\n",
      "epoch: 131  train_loss: 11.342855453491211\n",
      "epoch: 132  train_loss: 11.2811918258667\n",
      "epoch: 133  train_loss: 10.924344062805176\n",
      "epoch: 134  train_loss: 11.0857572555542\n",
      "epoch: 135  train_loss: 11.075772285461426\n",
      "epoch: 136  train_loss: 11.290003776550293\n",
      "epoch: 137  train_loss: 11.02220630645752\n",
      "epoch: 138  train_loss: 11.288434028625488\n",
      "epoch: 139  train_loss: 10.903227806091309\n",
      "epoch: 140  train_loss: 11.337928771972656\n",
      "epoch: 141  train_loss: 11.219695091247559\n",
      "epoch: 142  train_loss: 10.653257369995117\n",
      "epoch: 143  train_loss: 11.109379768371582\n",
      "epoch: 144  train_loss: 10.62553596496582\n",
      "epoch: 145  train_loss: 10.98952865600586\n",
      "epoch: 146  train_loss: 10.881348609924316\n",
      "epoch: 147  train_loss: 10.836194038391113\n",
      "epoch: 148  train_loss: 11.272976875305176\n",
      "epoch: 149  train_loss: 10.71931266784668\n",
      "epoch: 150  train_loss: 10.945140838623047\n",
      "epoch: 151  train_loss: 11.11147689819336\n",
      "epoch: 152  train_loss: 10.802606582641602\n",
      "epoch: 153  train_loss: 11.175471305847168\n",
      "epoch: 154  train_loss: 10.99462890625\n",
      "epoch: 155  train_loss: 11.01343822479248\n",
      "epoch: 156  train_loss: 11.152620315551758\n",
      "epoch: 157  train_loss: 11.161103248596191\n",
      "epoch: 158  train_loss: 11.396949768066406\n",
      "epoch: 159  train_loss: 10.837843894958496\n",
      "epoch: 160  train_loss: 11.164785385131836\n",
      "epoch: 161  train_loss: 10.815144538879395\n",
      "epoch: 162  train_loss: 11.320250511169434\n",
      "epoch: 163  train_loss: 11.106794357299805\n",
      "epoch: 164  train_loss: 10.789159774780273\n",
      "epoch: 165  train_loss: 11.115306854248047\n",
      "epoch: 166  train_loss: 10.888790130615234\n",
      "epoch: 167  train_loss: 11.011702537536621\n",
      "epoch: 168  train_loss: 11.229595184326172\n",
      "epoch: 169  train_loss: 10.845520973205566\n",
      "epoch: 170  train_loss: 10.650012016296387\n",
      "epoch: 171  train_loss: 11.172403335571289\n",
      "epoch: 172  train_loss: 11.357712745666504\n",
      "epoch: 173  train_loss: 11.055243492126465\n",
      "epoch: 174  train_loss: 11.189410209655762\n",
      "epoch: 175  train_loss: 10.94379997253418\n",
      "epoch: 176  train_loss: 11.411749839782715\n",
      "epoch: 177  train_loss: 11.082010269165039\n",
      "epoch: 178  train_loss: 10.933853149414062\n",
      "epoch: 179  train_loss: 11.18854808807373\n",
      "epoch: 180  train_loss: 11.204706192016602\n",
      "epoch: 181  train_loss: 11.146955490112305\n",
      "epoch: 182  train_loss: 10.862311363220215\n",
      "epoch: 183  train_loss: 10.619022369384766\n",
      "epoch: 184  train_loss: 10.731367111206055\n",
      "epoch: 185  train_loss: 11.03062629699707\n",
      "epoch: 186  train_loss: 11.295674324035645\n",
      "epoch: 187  train_loss: 10.711846351623535\n",
      "epoch: 188  train_loss: 11.010643005371094\n",
      "epoch: 189  train_loss: 11.006829261779785\n",
      "epoch: 190  train_loss: 10.722150802612305\n",
      "epoch: 191  train_loss: 10.927001953125\n",
      "epoch: 192  train_loss: 11.075201988220215\n",
      "epoch: 193  train_loss: 10.812342643737793\n"
     ]
    },
    {
     "name": "stdout",
     "output_type": "stream",
     "text": [
      "epoch: 194  train_loss: 11.199142456054688\n",
      "epoch: 195  train_loss: 10.73564338684082\n",
      "epoch: 196  train_loss: 11.504364967346191\n",
      "epoch: 197  train_loss: 10.951935768127441\n",
      "epoch: 198  train_loss: 10.655009269714355\n",
      "epoch: 199  train_loss: 10.6611967086792\n",
      "epoch: 200  train_loss: 11.118833541870117\n",
      "epoch: 201  train_loss: 10.754253387451172\n",
      "epoch: 202  train_loss: 10.962060928344727\n",
      "epoch: 203  train_loss: 11.176526069641113\n",
      "epoch: 204  train_loss: 10.818113327026367\n",
      "epoch: 205  train_loss: 11.05953598022461\n",
      "epoch: 206  train_loss: 10.887459754943848\n",
      "epoch: 207  train_loss: 10.829426765441895\n",
      "epoch: 208  train_loss: 11.114792823791504\n",
      "epoch: 209  train_loss: 11.071643829345703\n",
      "epoch: 210  train_loss: 10.81649112701416\n",
      "epoch: 211  train_loss: 10.832691192626953\n",
      "epoch: 212  train_loss: 10.85580825805664\n",
      "epoch: 213  train_loss: 11.102055549621582\n",
      "epoch: 214  train_loss: 10.79837703704834\n",
      "epoch: 215  train_loss: 11.097498893737793\n",
      "epoch: 216  train_loss: 10.8859224319458\n",
      "epoch: 217  train_loss: 10.810853958129883\n",
      "epoch: 218  train_loss: 11.10716724395752\n",
      "epoch: 219  train_loss: 10.623469352722168\n",
      "epoch: 220  train_loss: 11.038633346557617\n",
      "epoch: 221  train_loss: 11.104730606079102\n",
      "epoch: 222  train_loss: 10.812325477600098\n",
      "epoch: 223  train_loss: 10.947160720825195\n",
      "epoch: 224  train_loss: 10.839913368225098\n",
      "epoch: 225  train_loss: 10.893159866333008\n",
      "epoch: 226  train_loss: 10.685872077941895\n",
      "epoch: 227  train_loss: 11.034490585327148\n",
      "epoch: 228  train_loss: 10.959868431091309\n",
      "epoch: 229  train_loss: 11.141385078430176\n",
      "epoch: 230  train_loss: 10.65383529663086\n",
      "epoch: 231  train_loss: 10.627681732177734\n",
      "epoch: 232  train_loss: 10.83033275604248\n",
      "epoch: 233  train_loss: 10.77487564086914\n",
      "epoch: 234  train_loss: 10.889449119567871\n",
      "epoch: 235  train_loss: 10.568660736083984\n",
      "epoch: 236  train_loss: 10.96139907836914\n",
      "epoch: 237  train_loss: 11.063444137573242\n",
      "epoch: 238  train_loss: 10.862357139587402\n",
      "epoch: 239  train_loss: 10.88883113861084\n",
      "epoch: 240  train_loss: 10.664052963256836\n",
      "epoch: 241  train_loss: 11.141898155212402\n",
      "epoch: 242  train_loss: 10.79163932800293\n",
      "epoch: 243  train_loss: 10.842784881591797\n",
      "epoch: 244  train_loss: 10.916098594665527\n",
      "epoch: 245  train_loss: 10.792657852172852\n",
      "epoch: 246  train_loss: 10.873915672302246\n",
      "epoch: 247  train_loss: 10.893828392028809\n",
      "epoch: 248  train_loss: 11.028566360473633\n",
      "epoch: 249  train_loss: 11.201265335083008\n",
      "epoch: 250  train_loss: 11.03360652923584\n",
      "epoch: 251  train_loss: 11.130069732666016\n",
      "epoch: 252  train_loss: 10.711578369140625\n",
      "epoch: 253  train_loss: 10.748311042785645\n",
      "epoch: 254  train_loss: 11.108386993408203\n",
      "epoch: 255  train_loss: 10.712045669555664\n",
      "epoch: 256  train_loss: 10.840608596801758\n",
      "epoch: 257  train_loss: 10.678698539733887\n",
      "epoch: 258  train_loss: 11.04928207397461\n",
      "epoch: 259  train_loss: 10.534090995788574\n",
      "epoch: 260  train_loss: 10.740589141845703\n",
      "epoch: 261  train_loss: 10.702926635742188\n",
      "epoch: 262  train_loss: 10.833914756774902\n",
      "epoch: 263  train_loss: 10.684245109558105\n",
      "epoch: 264  train_loss: 10.901153564453125\n",
      "epoch: 265  train_loss: 10.800588607788086\n",
      "epoch: 266  train_loss: 10.968984603881836\n",
      "epoch: 267  train_loss: 10.714552879333496\n",
      "epoch: 268  train_loss: 10.806000709533691\n",
      "epoch: 269  train_loss: 10.735891342163086\n",
      "epoch: 270  train_loss: 10.937939643859863\n",
      "epoch: 271  train_loss: 10.588358879089355\n",
      "epoch: 272  train_loss: 10.89785385131836\n",
      "epoch: 273  train_loss: 10.762679100036621\n",
      "epoch: 274  train_loss: 10.575907707214355\n",
      "epoch: 275  train_loss: 10.802103996276855\n",
      "epoch: 276  train_loss: 10.493919372558594\n",
      "epoch: 277  train_loss: 11.111042022705078\n",
      "epoch: 278  train_loss: 10.858383178710938\n",
      "epoch: 279  train_loss: 10.570435523986816\n",
      "epoch: 280  train_loss: 10.486701965332031\n",
      "epoch: 281  train_loss: 10.867088317871094\n",
      "epoch: 282  train_loss: 11.04873275756836\n",
      "epoch: 283  train_loss: 10.89661979675293\n",
      "epoch: 284  train_loss: 10.863129615783691\n",
      "epoch: 285  train_loss: 10.847503662109375\n",
      "epoch: 286  train_loss: 10.593722343444824\n",
      "epoch: 287  train_loss: 11.032122611999512\n",
      "epoch: 288  train_loss: 10.890613555908203\n",
      "epoch: 289  train_loss: 10.794183731079102\n",
      "epoch: 290  train_loss: 10.616022109985352\n",
      "epoch: 291  train_loss: 10.642775535583496\n",
      "epoch: 292  train_loss: 10.724112510681152\n",
      "epoch: 293  train_loss: 10.917244911193848\n",
      "epoch: 294  train_loss: 10.781623840332031\n",
      "epoch: 295  train_loss: 10.778817176818848\n",
      "epoch: 296  train_loss: 11.16508960723877\n",
      "epoch: 297  train_loss: 11.116728782653809\n",
      "epoch: 298  train_loss: 10.720457077026367\n",
      "epoch: 299  train_loss: 10.55255126953125\n"
     ]
    },
    {
     "data": {
      "text/plain": [
       "<All keys matched successfully>"
      ]
     },
     "execution_count": 14,
     "metadata": {},
     "output_type": "execute_result"
    }
   ],
   "source": [
    "# Train NLP solution map\n",
    "best_model = trainer.train()\n",
    "best_outputs = trainer.test(best_model)\n",
    "# load best model dict\n",
    "problem.load_state_dict(best_model)"
   ]
  },
  {
   "cell_type": "markdown",
   "metadata": {
    "id": "0hhUw4PVBWmb"
   },
   "source": [
    "### Solve"
   ]
  },
  {
   "cell_type": "code",
   "execution_count": 15,
   "metadata": {
    "colab": {
     "base_uri": "https://localhost:8080/"
    },
    "id": "os3I3I8L3HbE",
    "outputId": "50c13f99-7693-4102-b65c-4f3707f90c29"
   },
   "outputs": [
    {
     "name": "stdout",
     "output_type": "stream",
     "text": [
      "x = 3.0086474418640137\n",
      "y = 2.005309581756592\n"
     ]
    }
   ],
   "source": [
    "# Solution to mpNLP via Neuromancer\n",
    "datapoint = {}\n",
    "datapoint['p'] = torch.tensor([[p]])\n",
    "datapoint['name'] = \"test\"\n",
    "model_out = problem(datapoint)\n",
    "x_nm = model_out['test_' + \"x\"][0, 0].detach().numpy()\n",
    "y_nm = model_out['test_' + \"x\"][0, 1].detach().numpy()\n",
    "print(f\"x = {x_nm}\")\n",
    "print(f\"y = {y_nm}\")"
   ]
  },
  {
   "cell_type": "markdown",
   "metadata": {
    "id": "g-KmqqUj-Q3E"
   },
   "source": [
    "# pNLP Formulation in CasADi\n",
    "\n",
    "[CasADi](https://web.casadi.org/) is an open-source tool for constrained optimization and optimal control that has influenced the development of NeuroMANCER."
   ]
  },
  {
   "cell_type": "markdown",
   "metadata": {
    "id": "abjHxZyMCQHY"
   },
   "source": [
    "## Optimization Problem"
   ]
  },
  {
   "cell_type": "code",
   "execution_count": 16,
   "metadata": {
    "id": "dmJERFP2yYuC"
   },
   "outputs": [],
   "source": [
    "# instantiate casadi optimization problem class\n",
    "def NLP_param(p, opti_silent=False):\n",
    "    opti = casadi.Opti()\n",
    "    # define variables\n",
    "    x = opti.variable()\n",
    "    y = opti.variable()\n",
    "    p_opti = opti.parameter()\n",
    "    # define objective and constraints\n",
    "    opti.minimize((x**2 + y - 11)**2 + (x + y**2 - 7)**2)\n",
    "    opti.subject_to(x >= y)\n",
    "    opti.subject_to((p_opti / 2) ** 2 <= x ** 2 + y ** 2)\n",
    "    opti.subject_to(x ** 2 + y ** 2 <= p_opti ** 2)\n",
    "    # select IPOPT solver and solve the NLP\n",
    "    if opti_silent:\n",
    "        opts = {'ipopt.print_level': 0, 'print_time': 0, 'ipopt.sb': 'yes'}\n",
    "    else:\n",
    "        opts = {}\n",
    "    opti.solver('ipopt', opts)\n",
    "    # set parametric values\n",
    "    opti.set_value(p_opti, p)\n",
    "    return opti, x, y\n",
    "\n",
    "# construct casadi problem\n",
    "opti, x, y = NLP_param(p)"
   ]
  },
  {
   "cell_type": "markdown",
   "metadata": {
    "id": "p6UrU_CPEWJo"
   },
   "source": [
    "## Problem Solution"
   ]
  },
  {
   "cell_type": "code",
   "execution_count": 17,
   "metadata": {
    "colab": {
     "base_uri": "https://localhost:8080/"
    },
    "id": "HOMFhVwdnw-a",
    "outputId": "cad0836b-180b-4c2e-cfe3-17709721f948"
   },
   "outputs": [
    {
     "name": "stdout",
     "output_type": "stream",
     "text": [
      "\n",
      "******************************************************************************\n",
      "This program contains Ipopt, a library for large-scale nonlinear optimization.\n",
      " Ipopt is released as open source code under the Eclipse Public License (EPL).\n",
      "         For more information visit https://github.com/coin-or/Ipopt\n",
      "******************************************************************************\n",
      "\n",
      "This is Ipopt version 3.14.11, running with linear solver MUMPS 5.2.1.\n",
      "\n",
      "Number of nonzeros in equality constraint Jacobian...:        0\n",
      "Number of nonzeros in inequality constraint Jacobian.:        6\n",
      "Number of nonzeros in Lagrangian Hessian.............:        3\n",
      "\n",
      "Total number of variables............................:        2\n",
      "                     variables with only lower bounds:        0\n",
      "                variables with lower and upper bounds:        0\n",
      "                     variables with only upper bounds:        0\n",
      "Total number of equality constraints.................:        0\n",
      "Total number of inequality constraints...............:        3\n",
      "        inequality constraints with only lower bounds:        1\n",
      "   inequality constraints with lower and upper bounds:        0\n",
      "        inequality constraints with only upper bounds:        2\n",
      "\n",
      "iter    objective    inf_pr   inf_du lg(mu)  ||d||  lg(rg) alpha_du alpha_pr  ls\n",
      "   0  1.7000000e+02 4.00e+00 1.90e+01  -1.0 0.00e+00    -  0.00e+00 0.00e+00   0\n",
      "   1  1.6990428e+02 4.00e+00 9.71e+01  -1.0 4.04e+00   2.0 9.96e-01 9.80e-03h  1\n",
      "   2  7.8768953e+00 0.00e+00 2.43e+04  -1.0 1.27e+03   1.5 4.09e-05 1.95e-03f 10\n",
      "   3  1.1437618e+01 0.00e+00 1.58e+03  -1.0 1.05e+01    -  2.96e-03 1.00e+00h  1\n",
      "   4  1.0360692e+01 0.00e+00 2.52e+01  -1.0 2.56e-01    -  6.50e-01 1.00e+00f  1\n",
      "   5  7.0464697e+00 0.00e+00 3.64e+01  -1.0 3.14e+00    -  1.00e+00 1.00e+00f  1\n",
      "   6  1.7922527e-01 0.00e+00 4.96e+00  -1.0 8.02e-01    -  1.00e+00 1.00e+00f  1\n",
      "   7  8.1485168e-04 0.00e+00 1.78e-01  -1.0 1.63e-01    -  1.00e+00 1.00e+00h  1\n",
      "   8  6.5040110e-07 0.00e+00 7.07e-04  -2.5 1.04e-02    -  1.00e+00 1.00e+00h  1\n",
      "   9  1.3073399e-09 0.00e+00 6.66e-07  -3.8 5.41e-04    -  1.00e+00 1.00e+00h  1\n",
      "iter    objective    inf_pr   inf_du lg(mu)  ||d||  lg(rg) alpha_du alpha_pr  ls\n",
      "  10  1.9536428e-13 0.00e+00 1.43e-09  -5.7 2.64e-05    -  1.00e+00 1.00e+00h  1\n",
      "  11  3.6004646e-19 0.00e+00 2.16e-13  -8.6 3.26e-07    -  1.00e+00 1.00e+00h  1\n",
      "\n",
      "Number of Iterations....: 11\n",
      "\n",
      "                                   (scaled)                 (unscaled)\n",
      "Objective...............:   3.6004645500726053e-19    3.6004645500726053e-19\n",
      "Dual infeasibility......:   2.1559911678045358e-13    2.1559911678045358e-13\n",
      "Constraint violation....:   0.0000000000000000e+00    0.0000000000000000e+00\n",
      "Variable bound violation:   0.0000000000000000e+00    0.0000000000000000e+00\n",
      "Complementarity.........:   2.5061598873816488e-09    2.5061598873816488e-09\n",
      "Overall NLP error.......:   2.5061598873816488e-09    2.5061598873816488e-09\n",
      "\n",
      "\n",
      "Number of objective function evaluations             = 18\n",
      "Number of objective gradient evaluations             = 12\n",
      "Number of equality constraint evaluations            = 0\n",
      "Number of inequality constraint evaluations          = 23\n",
      "Number of equality constraint Jacobian evaluations   = 0\n",
      "Number of inequality constraint Jacobian evaluations = 12\n",
      "Number of Lagrangian Hessian evaluations             = 11\n",
      "Total seconds in IPOPT                               = 0.012\n",
      "\n",
      "EXIT: Optimal Solution Found.\n",
      "      solver  :   t_proc      (avg)   t_wall      (avg)    n_eval\n",
      "       nlp_f  |  29.00us (  1.61us)  28.42us (  1.58us)        18\n",
      "       nlp_g  |  48.00us (  2.09us)  37.46us (  1.63us)        23\n",
      "    nlp_grad  |   5.00us (  5.00us)   4.38us (  4.38us)         1\n",
      "  nlp_grad_f  |  42.00us (  3.23us)  33.92us (  2.61us)        13\n",
      "  nlp_hess_l  |  67.00us (  6.09us)  49.38us (  4.49us)        11\n",
      "   nlp_jac_g  |  38.00us (  2.92us)  35.42us (  2.72us)        13\n",
      "       total  |  11.01ms ( 11.01ms)  13.07ms ( 13.07ms)         1\n"
     ]
    }
   ],
   "source": [
    "# solve pNLP via casadi\n",
    "sol = opti.solve()"
   ]
  },
  {
   "cell_type": "code",
   "execution_count": 18,
   "metadata": {
    "colab": {
     "base_uri": "https://localhost:8080/"
    },
    "id": "MvXjYHNjISrC",
    "outputId": "69a77f30-0ba5-411e-9d15-3cb7f15d9154"
   },
   "outputs": [
    {
     "name": "stdout",
     "output_type": "stream",
     "text": [
      "x = 3.0000000000313176\n",
      "y = 1.9999999998423519\n"
     ]
    }
   ],
   "source": [
    "print(f\"x = {sol.value(x)}\")\n",
    "print(f\"y = {sol.value(y)}\")"
   ]
  },
  {
   "cell_type": "markdown",
   "metadata": {
    "id": "pcNq5fOVE4lR"
   },
   "source": [
    "# Benchmark: NeuroMANCER vs. CasADi"
   ]
  },
  {
   "cell_type": "markdown",
   "metadata": {
    "id": "D8Dv65ZXFAuA"
   },
   "source": [
    "## Plot solutions"
   ]
  },
  {
   "cell_type": "code",
   "execution_count": 19,
   "metadata": {
    "colab": {
     "base_uri": "https://localhost:8080/",
     "height": 281
    },
    "id": "kvYCfjq6zxxC",
    "outputId": "322e5b72-b93d-4d9e-a913-8703aad67d1a"
   },
   "outputs": [
    {
     "data": {
      "image/png": "[encoded data removed]",
      "text/plain": [
       "<Figure size 640x480 with 2 Axes>"
      ]
     },
     "metadata": {},
     "output_type": "display_data"
    }
   ],
   "source": [
    "x1 = np.arange(-5.0, 5.0, 0.02)\n",
    "y1 = np.arange(-5.0, 5.0, 0.02)\n",
    "xx, yy = np.meshgrid(x1, y1)\n",
    "\n",
    "# eval objective and constraints\n",
    "J = (xx**2 + yy - 11)**2 + (xx + yy**2 - 7)**2\n",
    "c1 = xx - yy\n",
    "c2 = xx ** 2 + yy ** 2 - (p / 2) ** 2\n",
    "c3 = -(xx ** 2 + yy ** 2) + p ** 2\n",
    "\n",
    "levels = [0, 1.0, 10.0, 20., 50., 100., 200., 400., 1000.]\n",
    "fig, ax = plt.subplots()\n",
    "cp = ax.contourf(xx, yy, J, levels=levels, alpha=0.6)\n",
    "\n",
    "fig.colorbar(cp)\n",
    "ax.set_title('Himmelblau problem')\n",
    "cg1 = ax.contour(xx, yy, c1, [0], colors='mediumblue', alpha=0.7)\n",
    "plt.setp(cg1.collections,\n",
    "         path_effects=[patheffects.withTickedStroke()], alpha=0.7)\n",
    "cg2 = ax.contour(xx, yy, c2, [0], colors='mediumblue', alpha=0.7)\n",
    "plt.setp(cg2.collections,\n",
    "         path_effects=[patheffects.withTickedStroke()], alpha=0.7)\n",
    "cg3 = ax.contour(xx, yy, c3, [0], colors='mediumblue', alpha=0.7)\n",
    "plt.setp(cg3.collections,\n",
    "         path_effects=[patheffects.withTickedStroke()], alpha=0.7)\n",
    "ax.set_aspect('equal')\n",
    "\n",
    "# optimal points CasADi vs Neuromancer\n",
    "ax.plot(sol.value(x), sol.value(y), 'g*', markersize=10, label='CasADi')\n",
    "ax.plot(x_nm, y_nm, 'r*',fillstyle='none', markersize=10, label='NeuroMANCER')\n",
    "\n",
    "plt.legend(bbox_to_anchor=(1.75,0.15));"
   ]
  },
  {
   "cell_type": "code",
   "execution_count": 20,
   "metadata": {
    "id": "yD5kAnjy4CUL"
   },
   "outputs": [],
   "source": [
    "def eval_constraints(x, y, p):\n",
    "    \"\"\"\n",
    "    evaluate mean constraints violations\n",
    "    \"\"\"\n",
    "    con_1_viol = np.maximum(0, y - x)\n",
    "    con_2_viol = np.maximum(0, (p/2)**2 - (x**2+y**2))\n",
    "    con_3_viol = np.maximum(0, x**2+y**2 - p**2)\n",
    "    con_viol = con_1_viol + con_2_viol + con_3_viol\n",
    "    con_viol_mean = np.mean(con_viol)\n",
    "    return con_viol_mean\n",
    "\n",
    "def eval_objective(x, y):\n",
    "    obj_value_mean = np.mean((x**2 + y - 11)**2 + (x + y**2 - 7)**2)\n",
    "    return obj_value_mean\n",
    "\n",
    "# select n number of random samples to evaluate\n",
    "n_samples = 1000\n",
    "idx = np.random.randint(0, nsim, n_samples)\n",
    "p = samples['p'][idx]"
   ]
  },
  {
   "cell_type": "code",
   "execution_count": 21,
   "metadata": {
    "id": "r85kJ1Dr_nQ2"
   },
   "outputs": [],
   "source": [
    "# create named dictionary for neuromancer\n",
    "datapoint = {}\n",
    "datapoint['p'] = torch.tensor(p).float()\n",
    "datapoint['name'] = \"test\"\n",
    "\n",
    "# Solve via neuromancer\n",
    "t = time.time()\n",
    "model_out = problem(datapoint)\n",
    "nm_time = time.time() - t\n",
    "x_nm = model_out['test_' + \"x\"][:, [0]].detach().numpy()\n",
    "y_nm = model_out['test_' + \"x\"][:, [1]].detach().numpy()"
   ]
  },
  {
   "cell_type": "code",
   "execution_count": 22,
   "metadata": {
    "id": "gemVhNU2AALr"
   },
   "outputs": [],
   "source": [
    "# Solve via solver\n",
    "t = time.time()\n",
    "x_solver, y_solver = [], []\n",
    "for i in range(0, n_samples):\n",
    "    prob, x, y = NLP_param(p[i], opti_silent=True)\n",
    "    sol = prob.solve()\n",
    "    x_solver.append(sol.value(x))\n",
    "    y_solver.append(sol.value(y))\n",
    "solver_time = time.time() - t\n",
    "x_solver = np.asarray(x_solver)\n",
    "y_solver = np.asarray(y_solver)"
   ]
  },
  {
   "cell_type": "code",
   "execution_count": 23,
   "metadata": {
    "colab": {
     "base_uri": "https://localhost:8080/"
    },
    "id": "5n-SG-TuADib",
    "outputId": "6a251657-0b4d-41f9-80c0-537966f1f6f0"
   },
   "outputs": [
    {
     "name": "stdout",
     "output_type": "stream",
     "text": [
      "Solution for 1000 problems via Neuromancer obtained in 0.0019 seconds\n",
      "Neuromancer mean constraints violation 0.0061\n",
      "Neuromancer mean objective value 10.0506\n",
      "\n",
      "Solution for 1000 problems via solver obtained in 5.6638 seconds\n",
      "Solver mean constraints violation 1.5400\n",
      "Solver mean objective value 10.1074\n",
      "\n",
      "Solution speedup factor 3020.7986\n",
      "MSE primal optimizers: 0.3759167515191977\n",
      "mean objective value discrepancy: 0.56 %\n"
     ]
    }
   ],
   "source": [
    "# Evaluate neuromancer solution\n",
    "print(f'Solution for {n_samples} problems via Neuromancer obtained in {nm_time:.4f} seconds')\n",
    "nm_con_viol_mean = eval_constraints(x_nm, y_nm, p)\n",
    "print(f'Neuromancer mean constraints violation {nm_con_viol_mean:.4f}')\n",
    "nm_obj_mean = eval_objective(x_nm, y_nm)\n",
    "print(f'Neuromancer mean objective value {nm_obj_mean:.4f}\\n')\n",
    "\n",
    "# Evaluate solver solution\n",
    "print(f'Solution for {n_samples} problems via solver obtained in {solver_time:.4f} seconds')\n",
    "solver_con_viol_mean = eval_constraints(x_solver, y_solver, p)\n",
    "print(f'Solver mean constraints violation {solver_con_viol_mean:.4f}')\n",
    "solver_obj_mean = eval_objective(x_solver, y_solver)\n",
    "print(f'Solver mean objective value {solver_obj_mean:.4f}\\n')\n",
    "\n",
    "# neuromancer solver comparison\n",
    "speedup_factor = solver_time/nm_time\n",
    "print(f'Solution speedup factor {speedup_factor:.4f}')\n",
    "\n",
    "# Difference in primal optimizers\n",
    "dx = (x_solver - x_nm)[:,0]\n",
    "dy = (y_solver - y_nm)[:,0]\n",
    "err_x = np.mean(dx**2)\n",
    "err_y = np.mean(dy**2)\n",
    "err_primal = err_x + err_y\n",
    "print('MSE primal optimizers:', err_primal)\n",
    "\n",
    "# Difference in objective\n",
    "err_obj = np.abs(solver_obj_mean - nm_obj_mean) / solver_obj_mean * 100\n",
    "print(f'mean objective value discrepancy: {err_obj:.2f} %')"
   ]
  },
  {
   "cell_type": "code",
   "execution_count": null,
   "metadata": {
    "id": "zjRcXoDuARbc"
   },
   "outputs": [],
   "source": []
  },
  {
   "cell_type": "code",
   "execution_count": null,
   "metadata": {},
   "outputs": [],
   "source": []
  }
 ],
 "metadata": {
  "colab": {
   "provenance": []
  },
  "kernelspec": {
   "display_name": "Python [conda env:neuromancer]",
   "language": "python",
   "name": "conda-env-neuromancer-py"
  },
  "language_info": {
   "codemirror_mode": {
    "name": "ipython",
    "version": 3
   },
   "file_extension": ".py",
   "mimetype": "text/x-python",
   "name": "python",
   "nbconvert_exporter": "python",
   "pygments_lexer": "ipython3",
   "version": "3.10.4"
  }
 },
 "nbformat": 4,
 "nbformat_minor": 1
}
