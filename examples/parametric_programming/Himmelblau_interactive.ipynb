{
 "cells": [
  {
   "cell_type": "markdown",
   "metadata": {
    "id": "34qVD_ntSKLF"
   },
   "source": [
    "# Parametric Nonlinear Programming (pNLP) with NeuroMANCER: Himmelblau's function\n",
    "\n",
    "This is an interactive notebook based on the python script `mpNLP_Himmelblau_nm.py`. We demonstrate how the NeuroMANCER toolbox can be used to solve the [Himmelblau problem](https://en.wikipedia.org/wiki/Himmelblau%27s_function):\n",
    "\n",
    "$$\n",
    "\\begin{align}\n",
    "&\\text{minimize } && (x^2 + y - 11)^2 + (x + y^2 - 7)^2\\\\\n",
    "&\\text{subject to} && \\left(\\frac{p}{2}\\right)^2 \\le x^2 + y^2 \\le p^2\\\\\n",
    "& && x \\ge y\n",
    "\\end{align}\n",
    "$$\n",
    "\n",
    "with parameter $p$ and decision variables $x,y$."
   ]
  },
  {
   "cell_type": "markdown",
   "metadata": {
    "id": "OCn3zpaIqgMc"
   },
   "source": [
    "## NeuroMANCER and Dependencies"
   ]
  },
  {
   "cell_type": "markdown",
   "metadata": {
    "id": "Qzy5Wot5k2Gf"
   },
   "source": [
    "### Install (Colab only)\n",
    "Skip this step when running locally.\n",
    "\n",
    "We need to install a more recent version of matplotlib than is offered in the default Colab environment. After running the cell 1 for the first time in a new Colab runtime, you will see the prompt: \"You must restart the runtime in order to use newly installed versions.\" After restarting, the correct version of matplotlib will be loaded for the duration of the current runtime."
   ]
  },
  {
   "cell_type": "code",
   "execution_count": 1,
   "metadata": {},
   "outputs": [
    {
     "name": "stdout",
     "output_type": "stream",
     "text": [
      "Requirement already satisfied: matplotlib in c:\\users\\drgo694\\anaconda3\\lib\\site-packages (3.5.1)\n",
      "Collecting matplotlib\n",
      "  Downloading matplotlib-3.7.1-cp39-cp39-win_amd64.whl (7.6 MB)\n",
      "Collecting contourpy>=1.0.1\n",
      "  Downloading contourpy-1.0.7-cp39-cp39-win_amd64.whl (160 kB)\n",
      "Requirement already satisfied: python-dateutil>=2.7 in c:\\users\\drgo694\\anaconda3\\lib\\site-packages (from matplotlib) (2.8.2)\n",
      "Requirement already satisfied: pyparsing>=2.3.1 in c:\\users\\drgo694\\anaconda3\\lib\\site-packages (from matplotlib) (3.0.4)\n",
      "Requirement already satisfied: numpy>=1.20 in c:\\users\\drgo694\\anaconda3\\lib\\site-packages (from matplotlib) (1.21.5)\n",
      "Requirement already satisfied: cycler>=0.10 in c:\\users\\drgo694\\anaconda3\\lib\\site-packages (from matplotlib) (0.11.0)\n",
      "Requirement already satisfied: packaging>=20.0 in c:\\users\\drgo694\\anaconda3\\lib\\site-packages (from matplotlib) (21.3)\n",
      "Collecting importlib-resources>=3.2.0\n",
      "  Downloading importlib_resources-5.12.0-py3-none-any.whl (36 kB)\n",
      "Requirement already satisfied: kiwisolver>=1.0.1 in c:\\users\\drgo694\\anaconda3\\lib\\site-packages (from matplotlib) (1.3.2)\n",
      "Requirement already satisfied: pillow>=6.2.0 in c:\\users\\drgo694\\anaconda3\\lib\\site-packages (from matplotlib) (9.0.1)\n",
      "Requirement already satisfied: fonttools>=4.22.0 in c:\\users\\drgo694\\anaconda3\\lib\\site-packages (from matplotlib) (4.25.0)\n",
      "Requirement already satisfied: zipp>=3.1.0 in c:\\users\\drgo694\\anaconda3\\lib\\site-packages (from importlib-resources>=3.2.0->matplotlib) (3.7.0)\n",
      "Requirement already satisfied: six>=1.5 in c:\\users\\drgo694\\anaconda3\\lib\\site-packages (from python-dateutil>=2.7->matplotlib) (1.16.0)\n",
      "Installing collected packages: importlib-resources, contourpy, matplotlib\n",
      "  Attempting uninstall: matplotlib\n",
      "    Found existing installation: matplotlib 3.5.1\n",
      "    Uninstalling matplotlib-3.5.1:\n",
      "      Successfully uninstalled matplotlib-3.5.1\n",
      "Successfully installed contourpy-1.0.7 importlib-resources-5.12.0 matplotlib-3.7.1\n"
     ]
    }
   ],
   "source": [
    "!pip install --upgrade matplotlib"
   ]
  },
  {
   "cell_type": "code",
   "execution_count": 4,
   "metadata": {
    "colab": {
     "base_uri": "https://localhost:8080/",
     "height": 1000
    },
    "id": "X_3EvkSz0Fnz",
    "outputId": "23c06f6b-ab48-4763-c43c-40a325cacf87"
   },
   "outputs": [
    {
     "name": "stdout",
     "output_type": "stream",
     "text": [
      "Collecting setuptools==61.0.0\n",
      "  Using cached setuptools-61.0.0-py3-none-any.whl (1.1 MB)\n",
      "Collecting casadi\n",
      "  Using cached casadi-3.6.3-cp39-none-win_amd64.whl (39.7 MB)\n",
      "Collecting mlflow\n",
      "  Using cached mlflow-2.3.2-py3-none-any.whl (17.7 MB)\n",
      "Collecting plum-dispatch\n",
      "  Using cached plum_dispatch-2.0.1-py3-none-any.whl (27 kB)\n",
      "Requirement already satisfied: numpy in c:\\users\\drgo694\\anaconda3\\lib\\site-packages (from casadi) (1.21.5)\n",
      "Collecting pyarrow<12,>=4.0.0\n",
      "  Using cached pyarrow-11.0.0-cp39-cp39-win_amd64.whl (20.6 MB)\n",
      "Requirement already satisfied: matplotlib<4 in c:\\users\\drgo694\\anaconda3\\lib\\site-packages (from mlflow) (3.7.1)\n",
      "Collecting alembic!=1.10.0,<2\n",
      "  Using cached alembic-1.11.1-py3-none-any.whl (224 kB)\n",
      "Collecting gitpython<4,>=2.1.0\n",
      "  Using cached GitPython-3.1.31-py3-none-any.whl (184 kB)\n",
      "Requirement already satisfied: Flask<3 in c:\\users\\drgo694\\anaconda3\\lib\\site-packages (from mlflow) (1.1.2)\n",
      "Requirement already satisfied: cloudpickle<3 in c:\\users\\drgo694\\anaconda3\\lib\\site-packages (from mlflow) (2.0.0)\n",
      "Requirement already satisfied: requests<3,>=2.17.3 in c:\\users\\drgo694\\anaconda3\\lib\\site-packages (from mlflow) (2.27.1)\n",
      "Requirement already satisfied: sqlalchemy<3,>=1.4.0 in c:\\users\\drgo694\\anaconda3\\lib\\site-packages (from mlflow) (1.4.32)\n",
      "Collecting waitress<3\n",
      "  Using cached waitress-2.1.2-py3-none-any.whl (57 kB)\n",
      "Requirement already satisfied: pyyaml<7,>=5.1 in c:\\users\\drgo694\\anaconda3\\lib\\site-packages (from mlflow) (6.0)\n",
      "Collecting databricks-cli<1,>=0.8.7\n",
      "  Using cached databricks_cli-0.17.7-py3-none-any.whl\n",
      "Requirement already satisfied: importlib-metadata!=4.7.0,<7,>=3.7.0 in c:\\users\\drgo694\\anaconda3\\lib\\site-packages (from mlflow) (4.11.3)\n",
      "Requirement already satisfied: pandas<3 in c:\\users\\drgo694\\anaconda3\\lib\\site-packages (from mlflow) (1.4.2)\n",
      "Requirement already satisfied: packaging<24 in c:\\users\\drgo694\\anaconda3\\lib\\site-packages (from mlflow) (21.3)\n",
      "Requirement already satisfied: protobuf<5,>=3.12.0 in c:\\users\\drgo694\\anaconda3\\lib\\site-packages (from mlflow) (3.19.1)\n",
      "Collecting sqlparse<1,>=0.4.0\n",
      "  Using cached sqlparse-0.4.4-py3-none-any.whl (41 kB)\n",
      "Requirement already satisfied: click<9,>=7.0 in c:\\users\\drgo694\\anaconda3\\lib\\site-packages (from mlflow) (8.0.4)\n",
      "Collecting docker<7,>=4.0.0\n",
      "  Using cached docker-6.1.2-py3-none-any.whl (148 kB)\n",
      "Requirement already satisfied: pytz<2024 in c:\\users\\drgo694\\anaconda3\\lib\\site-packages (from mlflow) (2021.3)\n",
      "Collecting querystring-parser<2\n",
      "  Using cached querystring_parser-1.2.4-py2.py3-none-any.whl (7.9 kB)\n",
      "Requirement already satisfied: entrypoints<1 in c:\\users\\drgo694\\anaconda3\\lib\\site-packages (from mlflow) (0.4)\n",
      "Requirement already satisfied: scikit-learn<2 in c:\\users\\drgo694\\anaconda3\\lib\\site-packages (from mlflow) (1.0.2)\n",
      "Requirement already satisfied: scipy<2 in c:\\users\\drgo694\\anaconda3\\lib\\site-packages (from mlflow) (1.7.3)\n",
      "Collecting Jinja2<4,>=3.0\n",
      "  Using cached Jinja2-3.1.2-py3-none-any.whl (133 kB)\n",
      "Requirement already satisfied: markdown<4,>=3.3 in c:\\users\\drgo694\\anaconda3\\lib\\site-packages (from mlflow) (3.3.4)\n",
      "Collecting beartype\n",
      "  Using cached beartype-0.14.0-py3-none-any.whl (720 kB)\n",
      "Requirement already satisfied: typing-extensions>=4 in c:\\users\\drgo694\\anaconda3\\lib\\site-packages (from alembic!=1.10.0,<2->mlflow) (4.1.1)\n",
      "Collecting Mako\n",
      "  Using cached Mako-1.2.4-py3-none-any.whl (78 kB)\n",
      "Requirement already satisfied: colorama in c:\\users\\drgo694\\anaconda3\\lib\\site-packages (from click<9,>=7.0->mlflow) (0.4.4)\n",
      "Collecting oauthlib>=3.1.0\n",
      "  Using cached oauthlib-3.2.2-py3-none-any.whl (151 kB)\n",
      "Requirement already satisfied: tabulate>=0.7.7 in c:\\users\\drgo694\\anaconda3\\lib\\site-packages (from databricks-cli<1,>=0.8.7->mlflow) (0.8.9)\n",
      "Requirement already satisfied: six>=1.10.0 in c:\\users\\drgo694\\anaconda3\\lib\\site-packages (from databricks-cli<1,>=0.8.7->mlflow) (1.16.0)\n",
      "Requirement already satisfied: pyjwt>=1.7.0 in c:\\users\\drgo694\\anaconda3\\lib\\site-packages (from databricks-cli<1,>=0.8.7->mlflow) (2.1.0)\n",
      "Requirement already satisfied: urllib3<2.0.0,>=1.26.7 in c:\\users\\drgo694\\anaconda3\\lib\\site-packages (from databricks-cli<1,>=0.8.7->mlflow) (1.26.9)\n",
      "Requirement already satisfied: websocket-client>=0.32.0 in c:\\users\\drgo694\\anaconda3\\lib\\site-packages (from docker<7,>=4.0.0->mlflow) (0.58.0)\n",
      "Collecting pywin32>=304\n",
      "  Using cached pywin32-306-cp39-cp39-win_amd64.whl (9.3 MB)\n",
      "Requirement already satisfied: Werkzeug>=0.15 in c:\\users\\drgo694\\anaconda3\\lib\\site-packages (from Flask<3->mlflow) (2.0.3)\n",
      "Requirement already satisfied: itsdangerous>=0.24 in c:\\users\\drgo694\\anaconda3\\lib\\site-packages (from Flask<3->mlflow) (2.0.1)\n",
      "Collecting gitdb<5,>=4.0.1\n",
      "  Using cached gitdb-4.0.10-py3-none-any.whl (62 kB)\n",
      "Requirement already satisfied: smmap<6,>=3.0.1 in c:\\users\\drgo694\\anaconda3\\lib\\site-packages (from gitdb<5,>=4.0.1->gitpython<4,>=2.1.0->mlflow) (5.0.0)\n",
      "Requirement already satisfied: zipp>=0.5 in c:\\users\\drgo694\\anaconda3\\lib\\site-packages (from importlib-metadata!=4.7.0,<7,>=3.7.0->mlflow) (3.7.0)\n",
      "Requirement already satisfied: MarkupSafe>=2.0 in c:\\users\\drgo694\\anaconda3\\lib\\site-packages (from Jinja2<4,>=3.0->mlflow) (2.0.1)\n",
      "Requirement already satisfied: pillow>=6.2.0 in c:\\users\\drgo694\\anaconda3\\lib\\site-packages (from matplotlib<4->mlflow) (9.0.1)\n",
      "Requirement already satisfied: importlib-resources>=3.2.0 in c:\\users\\drgo694\\anaconda3\\lib\\site-packages (from matplotlib<4->mlflow) (5.12.0)\n",
      "Requirement already satisfied: contourpy>=1.0.1 in c:\\users\\drgo694\\anaconda3\\lib\\site-packages (from matplotlib<4->mlflow) (1.0.7)\n",
      "Requirement already satisfied: cycler>=0.10 in c:\\users\\drgo694\\anaconda3\\lib\\site-packages (from matplotlib<4->mlflow) (0.11.0)\n",
      "Requirement already satisfied: fonttools>=4.22.0 in c:\\users\\drgo694\\anaconda3\\lib\\site-packages (from matplotlib<4->mlflow) (4.25.0)\n",
      "Requirement already satisfied: python-dateutil>=2.7 in c:\\users\\drgo694\\anaconda3\\lib\\site-packages (from matplotlib<4->mlflow) (2.8.2)\n",
      "Requirement already satisfied: kiwisolver>=1.0.1 in c:\\users\\drgo694\\anaconda3\\lib\\site-packages (from matplotlib<4->mlflow) (1.3.2)\n",
      "Requirement already satisfied: pyparsing>=2.3.1 in c:\\users\\drgo694\\anaconda3\\lib\\site-packages (from matplotlib<4->mlflow) (3.0.4)\n",
      "Requirement already satisfied: certifi>=2017.4.17 in c:\\users\\drgo694\\anaconda3\\lib\\site-packages (from requests<3,>=2.17.3->mlflow) (2021.10.8)\n",
      "Requirement already satisfied: charset-normalizer~=2.0.0 in c:\\users\\drgo694\\anaconda3\\lib\\site-packages (from requests<3,>=2.17.3->mlflow) (2.0.4)\n",
      "Requirement already satisfied: idna<4,>=2.5 in c:\\users\\drgo694\\anaconda3\\lib\\site-packages (from requests<3,>=2.17.3->mlflow) (3.3)\n",
      "Requirement already satisfied: threadpoolctl>=2.0.0 in c:\\users\\drgo694\\anaconda3\\lib\\site-packages (from scikit-learn<2->mlflow) (2.2.0)\n",
      "Requirement already satisfied: joblib>=0.11 in c:\\users\\drgo694\\anaconda3\\lib\\site-packages (from scikit-learn<2->mlflow) (1.1.0)\n",
      "Requirement already satisfied: greenlet!=0.4.17 in c:\\users\\drgo694\\anaconda3\\lib\\site-packages (from sqlalchemy<3,>=1.4.0->mlflow) (1.1.1)\n",
      "Installing collected packages: pywin32, oauthlib, Mako, Jinja2, gitdb, waitress, sqlparse, querystring-parser, pyarrow, gitpython, docker, databricks-cli, beartype, alembic, setuptools, plum-dispatch, mlflow, casadi\n",
      "Successfully installed Jinja2-3.1.2 Mako-1.2.4 alembic-1.11.1 beartype-0.14.0 casadi-3.6.3 databricks-cli-0.17.7 docker-6.1.2 gitdb-4.0.10 gitpython-3.1.31 mlflow-2.3.2 oauthlib-3.2.2 plum-dispatch-2.0.1 pyarrow-11.0.0 pywin32-306 querystring-parser-1.2.4 setuptools-61.0.0 sqlparse-0.4.4 waitress-2.1.2\n"
     ]
    },
    {
     "name": "stderr",
     "output_type": "stream",
     "text": [
      "  WARNING: The script mako-render.exe is installed in 'C:\\Users\\drgo694\\AppData\\Roaming\\Python\\Python39\\Scripts' which is not on PATH.\n",
      "  Consider adding this directory to PATH or, if you prefer to suppress this warning, use --no-warn-script-location.\n",
      "  WARNING: The script waitress-serve.exe is installed in 'C:\\Users\\drgo694\\AppData\\Roaming\\Python\\Python39\\Scripts' which is not on PATH.\n",
      "  Consider adding this directory to PATH or, if you prefer to suppress this warning, use --no-warn-script-location.\n",
      "  WARNING: The script sqlformat.exe is installed in 'C:\\Users\\drgo694\\AppData\\Roaming\\Python\\Python39\\Scripts' which is not on PATH.\n",
      "  Consider adding this directory to PATH or, if you prefer to suppress this warning, use --no-warn-script-location.\n",
      "  WARNING: The script plasma_store.exe is installed in 'C:\\Users\\drgo694\\AppData\\Roaming\\Python\\Python39\\Scripts' which is not on PATH.\n",
      "  Consider adding this directory to PATH or, if you prefer to suppress this warning, use --no-warn-script-location.\n",
      "  WARNING: The scripts databricks.exe and dbfs.exe are installed in 'C:\\Users\\drgo694\\AppData\\Roaming\\Python\\Python39\\Scripts' which is not on PATH.\n",
      "  Consider adding this directory to PATH or, if you prefer to suppress this warning, use --no-warn-script-location.\n",
      "  WARNING: The script alembic.exe is installed in 'C:\\Users\\drgo694\\AppData\\Roaming\\Python\\Python39\\Scripts' which is not on PATH.\n",
      "  Consider adding this directory to PATH or, if you prefer to suppress this warning, use --no-warn-script-location.\n",
      "  WARNING: The script mlflow.exe is installed in 'C:\\Users\\drgo694\\AppData\\Roaming\\Python\\Python39\\Scripts' which is not on PATH.\n",
      "  Consider adding this directory to PATH or, if you prefer to suppress this warning, use --no-warn-script-location.\n",
      "ERROR: pip's dependency resolver does not currently take into account all the packages that are installed. This behaviour is the source of the following dependency conflicts.\n",
      "spyder 5.1.5 requires pyqt5<5.13, which is not installed.\n",
      "spyder 5.1.5 requires pyqtwebengine<5.13, which is not installed.\n",
      "conda-repo-cli 1.0.4 requires pathlib, which is not installed.\n",
      "anaconda-project 0.10.2 requires ruamel-yaml, which is not installed.\n",
      "jupyter-server 1.13.5 requires pywinpty<2; os_name == \"nt\", but you have pywinpty 2.0.2 which is incompatible.\n"
     ]
    },
    {
     "name": "stdout",
     "output_type": "stream",
     "text": [
      "Collecting git+https://github.com/pnnl/neuromancer.git@master\n",
      "  Cloning https://github.com/pnnl/neuromancer.git (to revision master) to c:\\users\\drgo694\\appdata\\local\\temp\\pip-req-build-fhgtva59\n",
      "  Resolved https://github.com/pnnl/neuromancer.git to commit ac646b36df18fe192f2a4ec2c88f1995c9ad759a\n",
      "Building wheels for collected packages: neuromancer\n",
      "  Building wheel for neuromancer (setup.py): started\n",
      "  Building wheel for neuromancer (setup.py): finished with status 'done'\n",
      "  Created wheel for neuromancer: filename=neuromancer-1.3.1-py3-none-any.whl size=96253 sha256=517749b59e623dab94b7bb1afa416272f98044b04c4440b0e3656987ac9a2ed6\n",
      "  Stored in directory: C:\\Users\\drgo694\\AppData\\Local\\Temp\\pip-ephem-wheel-cache-xm7vts_0\\wheels\\cf\\58\\0e\\fa96fde974dfb3196e8a260d0b557130bfa1defffda27af33f\n",
      "Successfully built neuromancer\n",
      "Installing collected packages: neuromancer\n",
      "Successfully installed neuromancer-1.3.1\n"
     ]
    },
    {
     "name": "stderr",
     "output_type": "stream",
     "text": [
      "  Running command git clone -q https://github.com/pnnl/neuromancer.git 'C:\\Users\\drgo694\\AppData\\Local\\Temp\\pip-req-build-fhgtva59'\n"
     ]
    }
   ],
   "source": [
    "!pip install setuptools==61.0.0 casadi mlflow torchdiffeq dill pyts plum-dispatch==1.7.3 --user\n",
    "!pip install git+https://github.com/pnnl/neuromancer.git@master --ignore-requires-python --no-deps --user"
   ]
  },
  {
   "cell_type": "markdown",
   "metadata": {
    "id": "LWyvndXlz0Fv"
   },
   "source": [
    "### Import"
   ]
  },
  {
   "cell_type": "code",
   "execution_count": 1,
   "metadata": {
    "id": "KbP0n-4evRqt"
   },
   "outputs": [
    {
     "name": "stderr",
     "output_type": "stream",
     "text": [
      "C:\\Users\\drgo694\\Anaconda3\\envs\\neuromancer\\lib\\site-packages\\tqdm\\auto.py:22: TqdmWarning: IProgress not found. Please update jupyter and ipywidgets. See https://ipywidgets.readthedocs.io/en/stable/user_install.html\n",
      "  from .autonotebook import tqdm as notebook_tqdm\n"
     ]
    }
   ],
   "source": [
    "import matplotlib.pyplot as plt\n",
    "import matplotlib.patheffects as patheffects\n",
    "import numpy as np\n",
    "import torch\n",
    "import casadi\n",
    "import time"
   ]
  },
  {
   "cell_type": "code",
   "execution_count": 2,
   "metadata": {
    "id": "POL27EJZxJmI"
   },
   "outputs": [],
   "source": [
    "from neuromancer.trainer import Trainer\n",
    "from neuromancer.problem import Problem\n",
    "from neuromancer.constraint import variable\n",
    "from neuromancer.activations import activations\n",
    "from neuromancer.dataset import DictDataset, get_static_dataloaders\n",
    "from neuromancer.loss import PenaltyLoss\n",
    "from neuromancer.system import Node\n",
    "from neuromancer import blocks\n",
    "from neuromancer import slim"
   ]
  },
  {
   "cell_type": "markdown",
   "metadata": {
    "id": "_WH7o7Wu1epw"
   },
   "source": [
    "# Dataset"
   ]
  },
  {
   "cell_type": "code",
   "execution_count": 3,
   "metadata": {
    "id": "_r6p2p6myHAh"
   },
   "outputs": [],
   "source": [
    "data_seed = 408  # random seed used for simulated data\n",
    "np.random.seed(data_seed)\n",
    "torch.manual_seed(data_seed);"
   ]
  },
  {
   "cell_type": "markdown",
   "metadata": {
    "id": "JZ9qrw0tlJhs"
   },
   "source": [
    "Randomly sample parameters from a uniform distribution ($2\\le p\\le6$)"
   ]
  },
  {
   "cell_type": "code",
   "execution_count": 4,
   "metadata": {
    "id": "Nu58M-8JyHy6"
   },
   "outputs": [],
   "source": [
    "nsim = 12000  # number of datapoints: increase sample density for more robust results\n",
    "samples = {\"p\": np.random.uniform(low=2.0, high=6.0, size=(nsim, 1))}\n",
    "data, dims = get_static_dataloaders(samples)\n",
    "train_data, dev_data, test_data = data"
   ]
  },
  {
   "cell_type": "markdown",
   "metadata": {
    "id": "Q6DqbTdL6S4o"
   },
   "source": [
    "# pNLP Formulation in NeuroMANCER"
   ]
  },
  {
   "cell_type": "markdown",
   "metadata": {
    "id": "Y2htUaWMDjsk"
   },
   "source": [
    "## Primal Solution Map Architecture"
   ]
  },
  {
   "cell_type": "code",
   "execution_count": 5,
   "metadata": {
    "id": "Ta_I_pjyyLzf"
   },
   "outputs": [],
   "source": [
    "n_layers = 4    # number of hidden layers\n",
    "nx_hidden = 80  # hidden layer size\n",
    "# neural architecture of the solution\n",
    "func = blocks.MLP(insize=1, outsize=2,\n",
    "                bias=True,\n",
    "                linear_map=slim.maps['linear'],\n",
    "                nonlin=activations['relu'],\n",
    "                hsizes=[nx_hidden] * n_layers)\n",
    "# symbolic solution map: Map(p) -> x\n",
    "sol_map = Node(func, ['p'], ['x'], name='map')"
   ]
  },
  {
   "cell_type": "markdown",
   "metadata": {
    "id": "Lxj77EFj7EO-"
   },
   "source": [
    "## Objective and Constraints in NeuroMANCER"
   ]
  },
  {
   "cell_type": "code",
   "execution_count": 6,
   "metadata": {
    "id": "bcoVjphjyPp9"
   },
   "outputs": [],
   "source": [
    "Q = 1.0            # loss function weight\n",
    "Q_con = 100.0      # constraints penalty weight\n",
    "\n",
    "# variables\n",
    "x = variable(\"x\")[:, [0]]\n",
    "y = variable(\"x\")[:, [1]]\n",
    "# sampled parameters\n",
    "p = variable('p')\n",
    "\n",
    "# Neuromancer supports coposition of variables \n",
    "f = (x**2 + y - 11)**2 + (x + y**2 - 7)**2\n",
    "# objective function\n",
    "obj = f.minimize(weight=Q, name='obj')\n",
    "\n",
    "# constraints\n",
    "con_1 = (x >= y)\n",
    "con_2 = ((p/2)**2 <= x**2+y**2)\n",
    "con_3 = (x**2+y**2 <= p**2)\n",
    "con_1.name = 'c1'\n",
    "con_2.name = 'c2'\n",
    "con_3.name = 'c3'"
   ]
  },
  {
   "cell_type": "code",
   "execution_count": 7,
   "metadata": {
    "colab": {
     "base_uri": "https://localhost:8080/",
     "height": 496
    },
    "id": "n7VPa9Wc8JRB",
    "outputId": "0da17c45-6370-4f46-f626-bd5686b94bfc"
   },
   "outputs": [],
   "source": [
    "# constrained optimization problem construction\n",
    "objectives = [obj]\n",
    "constraints = [Q_con*con_1, Q_con*con_2, Q_con*con_3]\n",
    "components = [sol_map]\n",
    "\n",
    "# create constrained optimization loss\n",
    "loss = PenaltyLoss(objectives, constraints)\n",
    "# construct constrained optimization problem\n",
    "problem = Problem(components, loss)\n",
    "# plot computational graph - Does not work in jupyter!\n",
    "# problem.plot_graph()"
   ]
  },
  {
   "cell_type": "markdown",
   "metadata": {
    "id": "icWSMeG28SKc"
   },
   "source": [
    "## Parametric Problem Solution in NeuroMANCER"
   ]
  },
  {
   "cell_type": "code",
   "execution_count": 8,
   "metadata": {
    "id": "rk1bRczByUvl"
   },
   "outputs": [],
   "source": [
    "lr = 0.001      # step size for gradient descent\n",
    "epochs = 300    # number of training epochs\n",
    "warmup = 100    # number of epochs to wait before enacting early stopping policy\n",
    "patience = 100  # number of epochs with no improvement in eval metric to allow before early stopping"
   ]
  },
  {
   "cell_type": "code",
   "execution_count": 9,
   "metadata": {
    "id": "x4oS2N2ZyWtD"
   },
   "outputs": [],
   "source": [
    "optimizer = torch.optim.AdamW(problem.parameters(), lr=lr)\n",
    "\n",
    "# define trainer\n",
    "trainer = Trainer(\n",
    "    problem,\n",
    "    train_data,\n",
    "    dev_data,\n",
    "    test_data,\n",
    "    optimizer,\n",
    "    epochs=epochs,\n",
    "    train_metric=\"train_loss\",\n",
    "    dev_metric=\"dev_loss\",\n",
    "    test_metric=\"test_loss\",\n",
    "    eval_metric=\"dev_loss\",\n",
    "    patience=patience,\n",
    "    warmup=warmup,\n",
    ")"
   ]
  },
  {
   "cell_type": "code",
   "execution_count": 10,
   "metadata": {
    "colab": {
     "base_uri": "https://localhost:8080/"
    },
    "id": "27ASQD3q-M0A",
    "outputId": "04eec20c-51c3-4a71-e570-9636af9421c0"
   },
   "outputs": [
    {
     "name": "stdout",
     "output_type": "stream",
     "text": [
      "epoch: 0  train_loss: 95.40924072265625\n",
      "epoch: 1  train_loss: 24.1793155670166\n",
      "epoch: 2  train_loss: 19.040321350097656\n",
      "epoch: 3  train_loss: 16.909194946289062\n",
      "epoch: 4  train_loss: 17.84237289428711\n",
      "epoch: 5  train_loss: 17.20442008972168\n",
      "epoch: 6  train_loss: 15.887548446655273\n",
      "epoch: 7  train_loss: 15.095943450927734\n",
      "epoch: 8  train_loss: 14.321112632751465\n",
      "epoch: 9  train_loss: 15.674041748046875\n",
      "epoch: 10  train_loss: 15.315006256103516\n",
      "epoch: 11  train_loss: 15.272988319396973\n",
      "epoch: 12  train_loss: 14.620471954345703\n",
      "epoch: 13  train_loss: 14.224236488342285\n",
      "epoch: 14  train_loss: 14.112771034240723\n",
      "epoch: 15  train_loss: 14.642634391784668\n",
      "epoch: 16  train_loss: 14.048450469970703\n",
      "epoch: 17  train_loss: 15.909899711608887\n",
      "epoch: 18  train_loss: 13.832801818847656\n",
      "epoch: 19  train_loss: 14.055654525756836\n",
      "epoch: 20  train_loss: 15.703065872192383\n",
      "epoch: 21  train_loss: 15.844972610473633\n",
      "epoch: 22  train_loss: 15.103728294372559\n",
      "epoch: 23  train_loss: 14.854691505432129\n",
      "epoch: 24  train_loss: 13.692218780517578\n",
      "epoch: 25  train_loss: 13.570968627929688\n",
      "epoch: 26  train_loss: 13.30058479309082\n",
      "epoch: 27  train_loss: 13.678289413452148\n",
      "epoch: 28  train_loss: 13.471506118774414\n",
      "epoch: 29  train_loss: 13.483455657958984\n",
      "epoch: 30  train_loss: 13.506022453308105\n",
      "epoch: 31  train_loss: 13.855997085571289\n",
      "epoch: 32  train_loss: 12.993589401245117\n",
      "epoch: 33  train_loss: 13.708125114440918\n",
      "epoch: 34  train_loss: 13.443796157836914\n",
      "epoch: 35  train_loss: 12.664206504821777\n",
      "epoch: 36  train_loss: 13.022313117980957\n",
      "epoch: 37  train_loss: 12.438813209533691\n",
      "epoch: 38  train_loss: 13.546563148498535\n",
      "epoch: 39  train_loss: 13.149011611938477\n",
      "epoch: 40  train_loss: 11.946093559265137\n",
      "epoch: 41  train_loss: 12.294937133789062\n",
      "epoch: 42  train_loss: 12.448115348815918\n",
      "epoch: 43  train_loss: 12.580399513244629\n",
      "epoch: 44  train_loss: 12.391406059265137\n",
      "epoch: 45  train_loss: 11.820600509643555\n",
      "epoch: 46  train_loss: 12.817140579223633\n",
      "epoch: 47  train_loss: 11.178969383239746\n",
      "epoch: 48  train_loss: 12.055970191955566\n",
      "epoch: 49  train_loss: 12.02469539642334\n",
      "epoch: 50  train_loss: 11.88196849822998\n",
      "epoch: 51  train_loss: 11.549226760864258\n",
      "epoch: 52  train_loss: 10.903525352478027\n",
      "epoch: 53  train_loss: 12.304502487182617\n",
      "epoch: 54  train_loss: 12.943278312683105\n",
      "epoch: 55  train_loss: 12.20164966583252\n",
      "epoch: 56  train_loss: 11.026022911071777\n",
      "epoch: 57  train_loss: 11.410533905029297\n",
      "epoch: 58  train_loss: 11.750412940979004\n",
      "epoch: 59  train_loss: 11.267605781555176\n",
      "epoch: 60  train_loss: 11.887015342712402\n",
      "epoch: 61  train_loss: 11.26151180267334\n",
      "epoch: 62  train_loss: 13.707780838012695\n",
      "epoch: 63  train_loss: 11.174983024597168\n",
      "epoch: 64  train_loss: 12.095337867736816\n",
      "epoch: 65  train_loss: 11.59638500213623\n",
      "epoch: 66  train_loss: 12.291984558105469\n",
      "epoch: 67  train_loss: 11.367364883422852\n",
      "epoch: 68  train_loss: 12.254446983337402\n",
      "epoch: 69  train_loss: 11.121045112609863\n",
      "epoch: 70  train_loss: 12.441664695739746\n",
      "epoch: 71  train_loss: 11.333061218261719\n",
      "epoch: 72  train_loss: 11.908257484436035\n",
      "epoch: 73  train_loss: 12.048519134521484\n",
      "epoch: 74  train_loss: 11.41482925415039\n",
      "epoch: 75  train_loss: 12.05422592163086\n",
      "epoch: 76  train_loss: 12.061615943908691\n",
      "epoch: 77  train_loss: 11.82706069946289\n",
      "epoch: 78  train_loss: 11.156805038452148\n",
      "epoch: 79  train_loss: 11.361791610717773\n",
      "epoch: 80  train_loss: 11.920930862426758\n",
      "epoch: 81  train_loss: 11.086350440979004\n",
      "epoch: 82  train_loss: 11.551515579223633\n",
      "epoch: 83  train_loss: 12.163516998291016\n",
      "epoch: 84  train_loss: 11.649410247802734\n",
      "epoch: 85  train_loss: 12.040493965148926\n",
      "epoch: 86  train_loss: 11.385761260986328\n",
      "epoch: 87  train_loss: 10.977582931518555\n",
      "epoch: 88  train_loss: 11.954940795898438\n",
      "epoch: 89  train_loss: 11.99348258972168\n",
      "epoch: 90  train_loss: 11.396232604980469\n",
      "epoch: 91  train_loss: 11.780012130737305\n",
      "epoch: 92  train_loss: 11.301852226257324\n",
      "epoch: 93  train_loss: 11.562080383300781\n",
      "epoch: 94  train_loss: 11.562907218933105\n",
      "epoch: 95  train_loss: 11.366897583007812\n",
      "epoch: 96  train_loss: 11.585610389709473\n",
      "epoch: 97  train_loss: 12.188121795654297\n",
      "epoch: 98  train_loss: 11.704384803771973\n",
      "epoch: 99  train_loss: 11.597497940063477\n",
      "epoch: 100  train_loss: 10.949131965637207\n",
      "epoch: 101  train_loss: 10.794123649597168\n",
      "epoch: 102  train_loss: 11.6104154586792\n",
      "epoch: 103  train_loss: 12.042253494262695\n",
      "epoch: 104  train_loss: 11.047928810119629\n",
      "epoch: 105  train_loss: 11.33879566192627\n",
      "epoch: 106  train_loss: 11.151744842529297\n",
      "epoch: 107  train_loss: 10.988537788391113\n",
      "epoch: 108  train_loss: 10.972380638122559\n",
      "epoch: 109  train_loss: 11.585602760314941\n",
      "epoch: 110  train_loss: 12.695124626159668\n",
      "epoch: 111  train_loss: 11.322186470031738\n",
      "epoch: 112  train_loss: 10.991209030151367\n",
      "epoch: 113  train_loss: 11.38857650756836\n",
      "epoch: 114  train_loss: 10.972129821777344\n",
      "epoch: 115  train_loss: 11.681680679321289\n",
      "epoch: 116  train_loss: 11.96919059753418\n",
      "epoch: 117  train_loss: 11.134618759155273\n",
      "epoch: 118  train_loss: 11.223899841308594\n",
      "epoch: 119  train_loss: 11.081201553344727\n",
      "epoch: 120  train_loss: 11.966157913208008\n",
      "epoch: 121  train_loss: 11.329066276550293\n",
      "epoch: 122  train_loss: 11.170982360839844\n",
      "epoch: 123  train_loss: 12.128355979919434\n",
      "epoch: 124  train_loss: 11.713504791259766\n",
      "epoch: 125  train_loss: 11.132782936096191\n",
      "epoch: 126  train_loss: 10.9296875\n",
      "epoch: 127  train_loss: 11.676863670349121\n",
      "epoch: 128  train_loss: 11.55821418762207\n",
      "epoch: 129  train_loss: 11.334001541137695\n",
      "epoch: 130  train_loss: 11.438453674316406\n",
      "epoch: 131  train_loss: 11.33110237121582\n",
      "epoch: 132  train_loss: 11.08352279663086\n",
      "epoch: 133  train_loss: 11.283730506896973\n",
      "epoch: 134  train_loss: 11.286500930786133\n",
      "epoch: 135  train_loss: 11.483359336853027\n",
      "epoch: 136  train_loss: 11.554269790649414\n",
      "epoch: 137  train_loss: 11.185239791870117\n",
      "epoch: 138  train_loss: 11.206608772277832\n",
      "epoch: 139  train_loss: 11.389208793640137\n",
      "epoch: 140  train_loss: 10.984395980834961\n",
      "epoch: 141  train_loss: 11.004728317260742\n",
      "epoch: 142  train_loss: 11.416528701782227\n",
      "epoch: 143  train_loss: 11.433157920837402\n",
      "epoch: 144  train_loss: 11.432872772216797\n",
      "epoch: 145  train_loss: 11.218660354614258\n",
      "epoch: 146  train_loss: 11.938976287841797\n",
      "epoch: 147  train_loss: 11.070394515991211\n",
      "epoch: 148  train_loss: 11.454949378967285\n",
      "epoch: 149  train_loss: 12.360526084899902\n",
      "epoch: 150  train_loss: 11.102057456970215\n",
      "epoch: 151  train_loss: 11.074106216430664\n",
      "epoch: 152  train_loss: 11.874698638916016\n",
      "epoch: 153  train_loss: 11.010637283325195\n",
      "epoch: 154  train_loss: 11.225931167602539\n",
      "epoch: 155  train_loss: 11.991307258605957\n",
      "epoch: 156  train_loss: 11.6454439163208\n",
      "epoch: 157  train_loss: 11.829119682312012\n",
      "epoch: 158  train_loss: 11.700648307800293\n",
      "epoch: 159  train_loss: 10.844646453857422\n",
      "epoch: 160  train_loss: 10.935042381286621\n",
      "epoch: 161  train_loss: 10.815848350524902\n",
      "epoch: 162  train_loss: 10.96813678741455\n",
      "epoch: 163  train_loss: 11.17973804473877\n",
      "epoch: 164  train_loss: 12.246835708618164\n",
      "epoch: 165  train_loss: 11.376461029052734\n",
      "epoch: 166  train_loss: 11.072471618652344\n",
      "epoch: 167  train_loss: 11.895751953125\n",
      "epoch: 168  train_loss: 11.08690357208252\n",
      "epoch: 169  train_loss: 10.847902297973633\n",
      "epoch: 170  train_loss: 11.268487930297852\n",
      "epoch: 171  train_loss: 11.50556468963623\n",
      "epoch: 172  train_loss: 11.365584373474121\n",
      "epoch: 173  train_loss: 10.74845027923584\n",
      "epoch: 174  train_loss: 12.156695365905762\n",
      "epoch: 175  train_loss: 10.960007667541504\n",
      "epoch: 176  train_loss: 11.260395050048828\n",
      "epoch: 177  train_loss: 11.348932266235352\n",
      "epoch: 178  train_loss: 11.016824722290039\n",
      "epoch: 179  train_loss: 11.704598426818848\n",
      "epoch: 180  train_loss: 11.014935493469238\n",
      "epoch: 181  train_loss: 11.802265167236328\n",
      "epoch: 182  train_loss: 11.86996078491211\n",
      "epoch: 183  train_loss: 11.746672630310059\n",
      "epoch: 184  train_loss: 11.135880470275879\n",
      "epoch: 185  train_loss: 11.242761611938477\n",
      "epoch: 186  train_loss: 10.927785873413086\n",
      "epoch: 187  train_loss: 10.650947570800781\n",
      "epoch: 188  train_loss: 10.778932571411133\n",
      "epoch: 189  train_loss: 11.2933988571167\n",
      "epoch: 190  train_loss: 11.535209655761719\n",
      "epoch: 191  train_loss: 11.121455192565918\n",
      "epoch: 192  train_loss: 10.780692100524902\n",
      "epoch: 193  train_loss: 10.821162223815918\n",
      "epoch: 194  train_loss: 10.525718688964844\n"
     ]
    },
    {
     "name": "stdout",
     "output_type": "stream",
     "text": [
      "epoch: 195  train_loss: 11.074512481689453\n",
      "epoch: 196  train_loss: 10.836082458496094\n",
      "epoch: 197  train_loss: 11.365806579589844\n",
      "epoch: 198  train_loss: 10.538848876953125\n",
      "epoch: 199  train_loss: 11.2338228225708\n",
      "epoch: 200  train_loss: 11.70415210723877\n",
      "epoch: 201  train_loss: 10.960659980773926\n"
     ]
    },
    {
     "data": {
      "text/plain": [
       "<All keys matched successfully>"
      ]
     },
     "execution_count": 10,
     "metadata": {},
     "output_type": "execute_result"
    }
   ],
   "source": [
    "# Train NLP solution map\n",
    "best_model = trainer.train()\n",
    "best_outputs = trainer.test(best_model)\n",
    "# load best model dict\n",
    "problem.load_state_dict(best_model)"
   ]
  },
  {
   "cell_type": "markdown",
   "metadata": {
    "id": "0hhUw4PVBWmb"
   },
   "source": [
    "## Get pNLP solution from trained neural network"
   ]
  },
  {
   "cell_type": "code",
   "execution_count": 11,
   "metadata": {},
   "outputs": [],
   "source": [
    "# selected problem parameters\n",
    "p = 4.0"
   ]
  },
  {
   "cell_type": "code",
   "execution_count": 12,
   "metadata": {
    "colab": {
     "base_uri": "https://localhost:8080/"
    },
    "id": "os3I3I8L3HbE",
    "outputId": "50c13f99-7693-4102-b65c-4f3707f90c29"
   },
   "outputs": [
    {
     "name": "stdout",
     "output_type": "stream",
     "text": [
      "x = 2.9921655654907227\n",
      "y = 2.017362356185913\n"
     ]
    }
   ],
   "source": [
    "# Solution to mpNLP via Neuromancer\n",
    "datapoint = {}\n",
    "datapoint['p'] = torch.tensor([[p]])\n",
    "datapoint['name'] = \"test\"\n",
    "model_out = problem(datapoint)\n",
    "x_nm = model_out['test_' + \"x\"][0, 0].detach().numpy()\n",
    "y_nm = model_out['test_' + \"x\"][0, 1].detach().numpy()\n",
    "print(f\"x = {x_nm}\")\n",
    "print(f\"y = {y_nm}\")"
   ]
  },
  {
   "cell_type": "markdown",
   "metadata": {
    "id": "g-KmqqUj-Q3E"
   },
   "source": [
    "## Get pNLP solution from CasADi as a benchmark\n",
    "\n",
    "[CasADi](https://web.casadi.org/) is an open-source tool for constrained optimization and optimal control that has influenced the development of NeuroMANCER."
   ]
  },
  {
   "cell_type": "code",
   "execution_count": 13,
   "metadata": {
    "id": "dmJERFP2yYuC"
   },
   "outputs": [
    {
     "name": "stdout",
     "output_type": "stream",
     "text": [
      "\n",
      "******************************************************************************\n",
      "This program contains Ipopt, a library for large-scale nonlinear optimization.\n",
      " Ipopt is released as open source code under the Eclipse Public License (EPL).\n",
      "         For more information visit https://github.com/coin-or/Ipopt\n",
      "******************************************************************************\n",
      "\n",
      "This is Ipopt version 3.14.4, running with linear solver MUMPS 5.4.1.\n",
      "\n",
      "Number of nonzeros in equality constraint Jacobian...:        0\n",
      "Number of nonzeros in inequality constraint Jacobian.:        6\n",
      "Number of nonzeros in Lagrangian Hessian.............:        3\n",
      "\n",
      "Total number of variables............................:        2\n",
      "                     variables with only lower bounds:        0\n",
      "                variables with lower and upper bounds:        0\n",
      "                     variables with only upper bounds:        0\n",
      "Total number of equality constraints.................:        0\n",
      "Total number of inequality constraints...............:        3\n",
      "        inequality constraints with only lower bounds:        1\n",
      "   inequality constraints with lower and upper bounds:        0\n",
      "        inequality constraints with only upper bounds:        2\n",
      "\n",
      "iter    objective    inf_pr   inf_du lg(mu)  ||d||  lg(rg) alpha_du alpha_pr  ls\n",
      "   0  1.7000000e+02 4.00e+00 1.90e+01  -1.0 0.00e+00    -  0.00e+00 0.00e+00   0\n",
      "   1  1.6990428e+02 4.00e+00 9.71e+01  -1.0 4.04e+00   2.0 9.96e-01 9.80e-03h  1\n",
      "   2  7.8768953e+00 0.00e+00 2.43e+04  -1.0 1.27e+03   1.5 4.09e-05 1.95e-03f 10\n",
      "   3  1.1437618e+01 0.00e+00 1.58e+03  -1.0 1.05e+01    -  2.96e-03 1.00e+00h  1\n",
      "   4  1.0360692e+01 0.00e+00 2.52e+01  -1.0 2.56e-01    -  6.50e-01 1.00e+00f  1\n",
      "   5  7.0464697e+00 0.00e+00 3.64e+01  -1.0 3.14e+00    -  1.00e+00 1.00e+00f  1\n",
      "   6  1.7922527e-01 0.00e+00 4.96e+00  -1.0 8.02e-01    -  1.00e+00 1.00e+00f  1\n",
      "   7  8.1485168e-04 0.00e+00 1.78e-01  -1.0 1.63e-01    -  1.00e+00 1.00e+00h  1\n",
      "   8  6.5040110e-07 0.00e+00 7.07e-04  -2.5 1.04e-02    -  1.00e+00 1.00e+00h  1\n",
      "   9  1.3073399e-09 0.00e+00 6.66e-07  -3.8 5.41e-04    -  1.00e+00 1.00e+00h  1\n",
      "iter    objective    inf_pr   inf_du lg(mu)  ||d||  lg(rg) alpha_du alpha_pr  ls\n",
      "  10  1.9536428e-13 0.00e+00 1.43e-09  -5.7 2.64e-05    -  1.00e+00 1.00e+00h  1\n",
      "  11  3.6004646e-19 0.00e+00 2.16e-13  -8.6 3.26e-07    -  1.00e+00 1.00e+00h  1\n",
      "\n",
      "Number of Iterations....: 11\n",
      "\n",
      "                                   (scaled)                 (unscaled)\n",
      "Objective...............:   3.6004645500726053e-19    3.6004645500726053e-19\n",
      "Dual infeasibility......:   2.1559911678045358e-13    2.1559911678045358e-13\n",
      "Constraint violation....:   0.0000000000000000e+00    0.0000000000000000e+00\n",
      "Variable bound violation:   0.0000000000000000e+00    0.0000000000000000e+00\n",
      "Complementarity.........:   2.5061598873816488e-09    2.5061598873816488e-09\n",
      "Overall NLP error.......:   2.5061598873816488e-09    2.5061598873816488e-09\n",
      "\n",
      "\n",
      "Number of objective function evaluations             = 18\n",
      "Number of objective gradient evaluations             = 12\n",
      "Number of equality constraint evaluations            = 0\n",
      "Number of inequality constraint evaluations          = 23\n",
      "Number of equality constraint Jacobian evaluations   = 0\n",
      "Number of inequality constraint Jacobian evaluations = 12\n",
      "Number of Lagrangian Hessian evaluations             = 11\n",
      "Total seconds in IPOPT                               = 0.005\n",
      "\n",
      "EXIT: Optimal Solution Found.\n",
      "      solver  :   t_proc      (avg)   t_wall      (avg)    n_eval\n",
      "       nlp_f  |        0 (       0)  12.00us (666.67ns)        18\n",
      "       nlp_g  |        0 (       0)  19.00us (826.09ns)        23\n",
      "    nlp_grad  |        0 (       0)   4.00us (  4.00us)         1\n",
      "  nlp_grad_f  |        0 (       0)  18.00us (  1.38us)        13\n",
      "  nlp_hess_l  |        0 (       0)  26.00us (  2.36us)        11\n",
      "   nlp_jac_g  |        0 (       0)  22.00us (  1.69us)        13\n",
      "       total  |  16.00ms ( 16.00ms)   5.41ms (  5.41ms)         1\n"
     ]
    }
   ],
   "source": [
    "# instantiate casadi optimization problem class\n",
    "def NLP_param(p, opti_silent=False):\n",
    "    opti = casadi.Opti()\n",
    "    # define variables\n",
    "    x = opti.variable()\n",
    "    y = opti.variable()\n",
    "    p_opti = opti.parameter()\n",
    "    # define objective and constraints\n",
    "    opti.minimize((x**2 + y - 11)**2 + (x + y**2 - 7)**2)\n",
    "    opti.subject_to(x >= y)\n",
    "    opti.subject_to((p_opti / 2) ** 2 <= x ** 2 + y ** 2)\n",
    "    opti.subject_to(x ** 2 + y ** 2 <= p_opti ** 2)\n",
    "    # select IPOPT solver and solve the NLP\n",
    "    if opti_silent:\n",
    "        opts = {'ipopt.print_level': 0, 'print_time': 0, 'ipopt.sb': 'yes'}\n",
    "    else:\n",
    "        opts = {}\n",
    "    opti.solver('ipopt', opts)\n",
    "    # set parametric values\n",
    "    opti.set_value(p_opti, p)\n",
    "    return opti, x, y\n",
    "\n",
    "# construct casadi problem\n",
    "opti, x, y = NLP_param(p)\n",
    "\n",
    "# solve pNLP via casadi\n",
    "sol = opti.solve()"
   ]
  },
  {
   "cell_type": "code",
   "execution_count": 14,
   "metadata": {
    "colab": {
     "base_uri": "https://localhost:8080/"
    },
    "id": "MvXjYHNjISrC",
    "outputId": "69a77f30-0ba5-411e-9d15-3cb7f15d9154"
   },
   "outputs": [
    {
     "name": "stdout",
     "output_type": "stream",
     "text": [
      "x = 3.0000000000313176\n",
      "y = 1.9999999998423519\n"
     ]
    }
   ],
   "source": [
    "print(f\"x = {sol.value(x)}\")\n",
    "print(f\"y = {sol.value(y)}\")"
   ]
  },
  {
   "cell_type": "markdown",
   "metadata": {
    "id": "pcNq5fOVE4lR"
   },
   "source": [
    "## Compare: NeuroMANCER vs. CasADi"
   ]
  },
  {
   "cell_type": "code",
   "execution_count": 15,
   "metadata": {
    "colab": {
     "base_uri": "https://localhost:8080/",
     "height": 281
    },
    "id": "kvYCfjq6zxxC",
    "outputId": "322e5b72-b93d-4d9e-a913-8703aad67d1a"
   },
   "outputs": [
    {
     "data": {
      "image/png": "[encoded data removed]",
      "text/plain": [
       "<Figure size 640x480 with 2 Axes>"
      ]
     },
     "metadata": {},
     "output_type": "display_data"
    }
   ],
   "source": [
    "x1 = np.arange(-5.0, 5.0, 0.02)\n",
    "y1 = np.arange(-5.0, 5.0, 0.02)\n",
    "xx, yy = np.meshgrid(x1, y1)\n",
    "\n",
    "# eval objective and constraints\n",
    "J = (xx**2 + yy - 11)**2 + (xx + yy**2 - 7)**2\n",
    "c1 = xx - yy\n",
    "c2 = xx ** 2 + yy ** 2 - (p / 2) ** 2\n",
    "c3 = -(xx ** 2 + yy ** 2) + p ** 2\n",
    "\n",
    "levels = [0, 1.0, 10.0, 20., 50., 100., 200., 400., 1000.]\n",
    "fig, ax = plt.subplots()\n",
    "cp = ax.contourf(xx, yy, J, levels=levels, alpha=0.6)\n",
    "\n",
    "fig.colorbar(cp)\n",
    "ax.set_title('Himmelblau problem')\n",
    "cg1 = ax.contour(xx, yy, c1, [0], colors='mediumblue', alpha=0.7)\n",
    "plt.setp(cg1.collections,\n",
    "         path_effects=[patheffects.withTickedStroke()], alpha=0.7)\n",
    "cg2 = ax.contour(xx, yy, c2, [0], colors='mediumblue', alpha=0.7)\n",
    "plt.setp(cg2.collections,\n",
    "         path_effects=[patheffects.withTickedStroke()], alpha=0.7)\n",
    "cg3 = ax.contour(xx, yy, c3, [0], colors='mediumblue', alpha=0.7)\n",
    "plt.setp(cg3.collections,\n",
    "         path_effects=[patheffects.withTickedStroke()], alpha=0.7)\n",
    "ax.set_aspect('equal')\n",
    "\n",
    "# optimal points CasADi vs Neuromancer\n",
    "ax.plot(sol.value(x), sol.value(y), 'g*', markersize=10, label='CasADi')\n",
    "ax.plot(x_nm, y_nm, 'r*',fillstyle='none', markersize=10, label='NeuroMANCER')\n",
    "\n",
    "plt.legend(bbox_to_anchor=(1.75,0.15));\n",
    "plt.show()"
   ]
  },
  {
   "cell_type": "code",
   "execution_count": 16,
   "metadata": {
    "id": "yD5kAnjy4CUL"
   },
   "outputs": [],
   "source": [
    "def eval_constraints(x, y, p):\n",
    "    \"\"\"\n",
    "    evaluate mean constraints violations\n",
    "    \"\"\"\n",
    "    con_1_viol = np.maximum(0, y - x)\n",
    "    con_2_viol = np.maximum(0, (p/2)**2 - (x**2+y**2))\n",
    "    con_3_viol = np.maximum(0, x**2+y**2 - p**2)\n",
    "    con_viol = con_1_viol + con_2_viol + con_3_viol\n",
    "    con_viol_mean = np.mean(con_viol)\n",
    "    return con_viol_mean\n",
    "\n",
    "def eval_objective(x, y):\n",
    "    obj_value_mean = np.mean((x**2 + y - 11)**2 + (x + y**2 - 7)**2)\n",
    "    return obj_value_mean\n",
    "\n",
    "# select n number of random samples to evaluate\n",
    "n_samples = 1000\n",
    "idx = np.random.randint(0, nsim, n_samples)\n",
    "p_samples = samples['p'][idx]"
   ]
  },
  {
   "cell_type": "code",
   "execution_count": 17,
   "metadata": {
    "id": "r85kJ1Dr_nQ2"
   },
   "outputs": [],
   "source": [
    "# create named dictionary for neuromancer\n",
    "datapoint = {}\n",
    "datapoint['p'] = torch.tensor(p_samples).float()\n",
    "datapoint['name'] = \"test\"\n",
    "\n",
    "# Solve via neuromancer\n",
    "t = time.time()\n",
    "model_out = problem(datapoint)\n",
    "nm_time = time.time() - t\n",
    "x_nm = model_out['test_' + \"x\"][:, [0]].detach().numpy()\n",
    "y_nm = model_out['test_' + \"x\"][:, [1]].detach().numpy()"
   ]
  },
  {
   "cell_type": "code",
   "execution_count": 18,
   "metadata": {
    "id": "gemVhNU2AALr"
   },
   "outputs": [],
   "source": [
    "# Solve via solver\n",
    "t = time.time()\n",
    "x_solver, y_solver = [], []\n",
    "for i in range(0, n_samples):\n",
    "    prob, x, y = NLP_param(p_samples[i], opti_silent=True)\n",
    "    sol = prob.solve()\n",
    "    x_solver.append(sol.value(x))\n",
    "    y_solver.append(sol.value(y))\n",
    "solver_time = time.time() - t\n",
    "x_solver = np.asarray(x_solver)\n",
    "y_solver = np.asarray(y_solver)"
   ]
  },
  {
   "cell_type": "code",
   "execution_count": 19,
   "metadata": {
    "colab": {
     "base_uri": "https://localhost:8080/"
    },
    "id": "5n-SG-TuADib",
    "outputId": "6a251657-0b4d-41f9-80c0-537966f1f6f0"
   },
   "outputs": [
    {
     "name": "stdout",
     "output_type": "stream",
     "text": [
      "Solution for 1000 problems via Neuromancer obtained in 0.0106 seconds\n",
      "Neuromancer mean constraints violation 0.0000\n",
      "Neuromancer mean objective value 9.6553\n",
      "\n",
      "Solution for 1000 problems via solver obtained in 7.9305 seconds\n",
      "Solver mean constraints violation 0.0000\n",
      "Solver mean objective value 9.5769\n",
      "\n",
      "Solution speedup factor 748.7744\n",
      "MSE primal optimizers: 0.35934921547727106\n",
      "mean objective value discrepancy: 0.82 %\n"
     ]
    }
   ],
   "source": [
    "# Evaluate neuromancer solution\n",
    "print(f'Solution for {n_samples} problems via Neuromancer obtained in {nm_time:.4f} seconds')\n",
    "nm_con_viol_mean = eval_constraints(x_nm, y_nm, p)\n",
    "print(f'Neuromancer mean constraints violation {nm_con_viol_mean:.4f}')\n",
    "nm_obj_mean = eval_objective(x_nm, y_nm)\n",
    "print(f'Neuromancer mean objective value {nm_obj_mean:.4f}\\n')\n",
    "\n",
    "# Evaluate solver solution\n",
    "print(f'Solution for {n_samples} problems via solver obtained in {solver_time:.4f} seconds')\n",
    "solver_con_viol_mean = eval_constraints(x_solver, y_solver, p)\n",
    "print(f'Solver mean constraints violation {solver_con_viol_mean:.4f}')\n",
    "solver_obj_mean = eval_objective(x_solver, y_solver)\n",
    "print(f'Solver mean objective value {solver_obj_mean:.4f}\\n')\n",
    "\n",
    "# neuromancer solver comparison\n",
    "speedup_factor = solver_time/nm_time\n",
    "print(f'Solution speedup factor {speedup_factor:.4f}')\n",
    "\n",
    "# Difference in primal optimizers\n",
    "dx = (x_solver - x_nm)[:,0]\n",
    "dy = (y_solver - y_nm)[:,0]\n",
    "err_x = np.mean(dx**2)\n",
    "err_y = np.mean(dy**2)\n",
    "err_primal = err_x + err_y\n",
    "print('MSE primal optimizers:', err_primal)\n",
    "\n",
    "# Difference in objective\n",
    "err_obj = np.abs(solver_obj_mean - nm_obj_mean) / solver_obj_mean * 100\n",
    "print(f'mean objective value discrepancy: {err_obj:.2f} %')"
   ]
  },
  {
   "cell_type": "code",
   "execution_count": null,
   "metadata": {
    "id": "zjRcXoDuARbc"
   },
   "outputs": [],
   "source": []
  },
  {
   "cell_type": "code",
   "execution_count": null,
   "metadata": {},
   "outputs": [],
   "source": []
  }
 ],
 "metadata": {
  "colab": {
   "provenance": []
  },
  "kernelspec": {
   "display_name": "neuromancer",
   "language": "python",
   "name": "neuromancer"
  },
  "language_info": {
   "codemirror_mode": {
    "name": "ipython",
    "version": 3
   },
   "file_extension": ".py",
   "mimetype": "text/x-python",
   "name": "python",
   "nbconvert_exporter": "python",
   "pygments_lexer": "ipython3",
   "version": "3.10.4"
  }
 },
 "nbformat": 4,
 "nbformat_minor": 1
}
