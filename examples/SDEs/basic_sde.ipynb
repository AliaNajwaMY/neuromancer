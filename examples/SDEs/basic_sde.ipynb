{
 "cells": [
  {
   "cell_type": "markdown",
   "metadata": {},
   "source": [
    "# TorchSDE + Neuromancer: Basic (Explicit) Integration of Stochastic Differential Equations\n",
    "\n",
    "This notebook goes over how to utilize torchsde's functionality within Neuromancer framework. This notebook is based off: https://github.com/google-research/torchsde/blob/master/examples/demo.ipynb\n",
    "\n",
    "\n"
   ]
  },
  {
   "cell_type": "markdown",
   "metadata": {},
   "source": [
    "### Imports\n",
    "\n",
    "If necessary, install torchsde library"
   ]
  },
  {
   "cell_type": "code",
   "execution_count": 1,
   "metadata": {},
   "outputs": [],
   "source": [
    "#!pip install torchsde"
   ]
  },
  {
   "cell_type": "code",
   "execution_count": 2,
   "metadata": {},
   "outputs": [
    {
     "data": {
      "text/plain": [
       "<torch._C.Generator at 0x7fc5c8818090>"
      ]
     },
     "execution_count": 2,
     "metadata": {},
     "output_type": "execute_result"
    }
   ],
   "source": [
    "import torch\n",
    "from neuromancer.psl import plot\n",
    "from neuromancer import psl\n",
    "import matplotlib.pyplot as plt\n",
    "from torch.utils.data import DataLoader\n",
    "\n",
    "from neuromancer.system import Node, System\n",
    "from neuromancer.dynamics import integrators, ode\n",
    "from neuromancer.trainer import Trainer\n",
    "from neuromancer.problem import Problem\n",
    "from neuromancer.loggers import BasicLogger\n",
    "from neuromancer.dataset import DictDataset\n",
    "from neuromancer.constraint import variable\n",
    "from neuromancer.loss import PenaltyLoss\n",
    "from neuromancer.modules import blocks\n",
    "\n",
    "torch.manual_seed(0)\n"
   ]
  },
  {
   "cell_type": "markdown",
   "metadata": {},
   "source": [
    "### Dataset: \n",
    "Below we generate some data. We assume the process has a state size of 1, batch size of 5 and 100 timesteps. \n",
    "\n",
    "***Note: For visualization purposes, we recommend ONLY to use a state size of 1***"
   ]
  },
  {
   "cell_type": "code",
   "execution_count": 13,
   "metadata": {},
   "outputs": [],
   "source": [
    "batch_size, state_size, t_size = 5, 1, 100\n",
    "ts = torch.linspace(0, 1, t_size)\n",
    "y0 = torch.full(size=(batch_size, state_size), fill_value=0.1)\n",
    "y0.shape\n",
    "my_data = {'y': y0, 't':ts}"
   ]
  },
  {
   "cell_type": "markdown",
   "metadata": {},
   "source": [
    "Strongly recommended to refer to TorchSDE documentation. For the basic/explicit SDE case, TorchSDE requires user to define the drift (f) and diffusion (g) functions. We define an example f and g below: "
   ]
  },
  {
   "cell_type": "code",
   "execution_count": 4,
   "metadata": {},
   "outputs": [],
   "source": [
    "def f(t, y):\n",
    "    return torch.sin(t) + 0.1 * y\n",
    "    \n",
    "def g(t, y):\n",
    "    return 0.3 * torch.sigmoid(torch.cos(t) * torch.exp(-y))"
   ]
  },
  {
   "cell_type": "markdown",
   "metadata": {},
   "source": [
    "### Neuromancer Integration: \n",
    "Now define Neuromancer variables and components"
   ]
  },
  {
   "cell_type": "code",
   "execution_count": 5,
   "metadata": {},
   "outputs": [],
   "source": [
    "t = variable('t')\n",
    "y = variable('y')\n",
    "block = blocks.BasicSDE(f, g, t, y) #We use this block for the basic/explicit SDE case where f and g are defined \n",
    "integrator = integrators.BasicSDEIntegrator(block) #instantiate integrator for the basic/explicit case \n",
    "model = Node(integrator, input_keys=['y','t'], output_keys=['ys']) #define Neuromancer Node to wrap integrator. Output of the "
   ]
  },
  {
   "cell_type": "markdown",
   "metadata": {},
   "source": [
    "### Visualization \n",
    "Visualize ys which represents ts number of samples from a stochasic process parameterized by f and g for the provided batch_size"
   ]
  },
  {
   "cell_type": "code",
   "execution_count": 6,
   "metadata": {},
   "outputs": [],
   "source": [
    "# Plotting helper function\n",
    "def plot(ts, samples, xlabel, ylabel, title=''):\n",
    "    ts = ts.cpu()\n",
    "    samples = samples.squeeze().t().cpu()\n",
    "    plt.figure()\n",
    "    for i, sample in enumerate(samples):\n",
    "        plt.plot(ts, sample, marker='x', label=f'sample {i}')\n",
    "    plt.title(title)\n",
    "    plt.xlabel(xlabel)\n",
    "    plt.ylabel(ylabel)\n",
    "    plt.legend()\n",
    "    plt.show()"
   ]
  }
 ],
 "metadata": {
  "kernelspec": {
   "display_name": "neuromancer3",
   "language": "python",
   "name": "python3"
  },
  "language_info": {
   "codemirror_mode": {
    "name": "ipython",
    "version": 3
   },
   "file_extension": ".py",
   "mimetype": "text/x-python",
   "name": "python",
   "nbconvert_exporter": "python",
   "pygments_lexer": "ipython3",
   "version": "3.1.undefined"
  }
 },
 "nbformat": 4,
 "nbformat_minor": 2
}
