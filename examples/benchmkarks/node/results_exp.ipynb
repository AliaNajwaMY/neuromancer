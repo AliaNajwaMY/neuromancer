{
 "cells": [
  {
   "cell_type": "code",
   "execution_count": 28,
   "id": "e881717a",
   "metadata": {},
   "outputs": [],
   "source": [
    "import pandas as pd\n",
    "import pickle"
   ]
  },
  {
   "cell_type": "code",
   "execution_count": 29,
   "id": "65de2693",
   "metadata": {},
   "outputs": [],
   "source": [
    "df = pickle.load(open('actuator_benchmark.pkl', 'rb'))\n",
    "metrics = ['metrics.mse_test', 'metrics.mae_test', 'metrics.r2_test', 'metrics.nparams']\n",
    "params = ['params.' + k for k in ['model', 'inn', 'normalize', 'scaled_loss']]\n",
    "df_reduced = df[params+metrics]"
   ]
  },
  {
   "cell_type": "code",
   "execution_count": 30,
   "id": "2ae3a366",
   "metadata": {},
   "outputs": [
    {
     "data": {
      "text/html": [
       "<div>\n",
       "<style scoped>\n",
       "    .dataframe tbody tr th:only-of-type {\n",
       "        vertical-align: middle;\n",
       "    }\n",
       "\n",
       "    .dataframe tbody tr th {\n",
       "        vertical-align: top;\n",
       "    }\n",
       "\n",
       "    .dataframe thead th {\n",
       "        text-align: right;\n",
       "    }\n",
       "</style>\n",
       "<table border=\"1\" class=\"dataframe\">\n",
       "  <thead>\n",
       "    <tr style=\"text-align: right;\">\n",
       "      <th></th>\n",
       "      <th>R2</th>\n",
       "      <th>R2N</th>\n",
       "      <th>R2S</th>\n",
       "      <th>NP</th>\n",
       "    </tr>\n",
       "  </thead>\n",
       "  <tbody>\n",
       "    <tr>\n",
       "      <th>node</th>\n",
       "      <td>0.858003</td>\n",
       "      <td>0.897088</td>\n",
       "      <td>0.984827</td>\n",
       "      <td>50304.0</td>\n",
       "    </tr>\n",
       "    <tr>\n",
       "      <th>ssm</th>\n",
       "      <td>0.506495</td>\n",
       "      <td>0.605494</td>\n",
       "      <td>0.506582</td>\n",
       "      <td>216067.0</td>\n",
       "    </tr>\n",
       "    <tr>\n",
       "      <th>koopman-inn</th>\n",
       "      <td>0.468449</td>\n",
       "      <td>0.776584</td>\n",
       "      <td>0.715725</td>\n",
       "      <td>166144.0</td>\n",
       "    </tr>\n",
       "    <tr>\n",
       "      <th>koopman-auto_encoder</th>\n",
       "      <td>0.648862</td>\n",
       "      <td>0.89653</td>\n",
       "      <td>0.836252</td>\n",
       "      <td>149891.0</td>\n",
       "    </tr>\n",
       "  </tbody>\n",
       "</table>\n",
       "</div>"
      ],
      "text/plain": [
       "                            R2       R2N       R2S        NP\n",
       "node                  0.858003  0.897088  0.984827   50304.0\n",
       "ssm                   0.506495  0.605494  0.506582  216067.0\n",
       "koopman-inn           0.468449  0.776584  0.715725  166144.0\n",
       "koopman-auto_encoder  0.648862   0.89653  0.836252  149891.0"
      ]
     },
     "execution_count": 30,
     "metadata": {},
     "output_type": "execute_result"
    }
   ],
   "source": [
    "report = pd.DataFrame(index=['node', 'ssm', 'koopman-inn', 'koopman-auto_encoder'], columns=['R2', 'R2N', 'R2S', 'NP'])\n",
    "for ix, row in df_reduced.iterrows():\n",
    "    if row['params.model'] in ['node', 'ssm'] or (row['params.model'] == 'koopman' and row['params.inn'] in ['auto_encoder', 'inn']):\n",
    "        if row['params.model'] in ['node', 'linear', 'ssm']:\n",
    "            r = row['params.model']\n",
    "        else:\n",
    "            r = row['params.model'] + '-' + row['params.inn'] \n",
    "        report.loc[r, 'NP'] = row['metrics.nparams']\n",
    "        score = row['metrics.r2_test']\n",
    "        if row['params.normalize']: \n",
    "            metric = 'R2N'\n",
    "        elif row['params.scaled_loss']:\n",
    "            metric = 'R2S'\n",
    "        else:\n",
    "            metric = 'R2'\n",
    "        report.loc[r, metric] = score\n",
    "report"
   ]
  },
  {
   "cell_type": "code",
   "execution_count": null,
   "id": "56118d34",
   "metadata": {},
   "outputs": [],
   "source": []
  }
 ],
 "metadata": {
  "kernelspec": {
   "display_name": "Python 3 (ipykernel)",
   "language": "python",
   "name": "python3"
  },
  "language_info": {
   "codemirror_mode": {
    "name": "ipython",
    "version": 3
   },
   "file_extension": ".py",
   "mimetype": "text/x-python",
   "name": "python",
   "nbconvert_exporter": "python",
   "pygments_lexer": "ipython3",
   "version": "3.10.4"
  }
 },
 "nbformat": 4,
 "nbformat_minor": 5
}
